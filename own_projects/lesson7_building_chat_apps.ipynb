{
  "cells": [
    {
      "attachments": {},
      "cell_type": "markdown",
      "metadata": {
        "nteract": {
          "transient": {
            "deleting": false
          }
        }
      },
      "source": [
        "# Chapter 7: Building Chat Applications\n",
        "## Azure OpenAI API Quickstart"
      ]
    },
    {
      "attachments": {},
      "cell_type": "markdown",
      "metadata": {
        "nteract": {
          "transient": {
            "deleting": false
          }
        }
      },
      "source": [
        "## Overview\n",
        "This notebook is adapted from the [Azure OpenAI Samples Repository](https://github.com/Azure/azure-openai-samples?WT.mc_id=academic-105485-koreyst) that includes notebooks that also access the [OpenAI](notebook-openai.ipynb) service.\n",
        "\n",
        "The Python OpenAI API works with Azure OpenAI as well, with a few modifications. Learn more about the differences here: [How to switch between OpenAI and Azure OpenAI endpoints with Python](https://learn.microsoft.com/azure/ai-services/openai/how-to/switching-endpoints?WT.mc_id=academic-109527-jasmineg)\n",
        "\n",
        "For more quickstart examples please refer to the official [Azure Open AI Quickstart Documentation](https://learn.microsoft.com/azure/cognitive-services/openai/quickstart?pivots=programming-language-studio&WT.mc_id=academic-105485-koreyst)"
      ]
    },
    {
      "attachments": {},
      "cell_type": "markdown",
      "metadata": {
        "nteract": {
          "transient": {
            "deleting": false
          }
        }
      },
      "source": [
        "## Table of Contents  \n",
        "\n",
        "[Overview](#overview)  \n",
        "[Getting started with Azure OpenAI Service](#getting-started-with-azure-openai-service)  \n",
        "[Build your first prompt](#build-your-first-prompt)  \n",
        "\n",
        "[Use Cases](#use-cases)    \n",
        "[1. Summarize Text](#summarize-text)  \n",
        "[2. Classify Text](#classify-text)  \n",
        "[3. Generate New Product Names](#generate-new-product-names)  \n",
        "[4. Fine Tune a Classifier](#fine-tune-a-classifier)  \n",
        "[5. Embeddings](#embeddings)\n",
        "\n",
        "[References](#references)"
      ]
    },
    {
      "attachments": {},
      "cell_type": "markdown",
      "metadata": {
        "nteract": {
          "transient": {
            "deleting": false
          }
        }
      },
      "source": [
        "### Getting started with Azure OpenAI Service\n",
        "\n",
        "New customers will need to [apply for access](https://aka.ms/oai/access?WT.mc_id=academic-105485-koreyst) to Azure OpenAI Service.  \n",
        "After approval is complete, customers can log into the Azure portal, create an Azure OpenAI Service resource, and start experimenting with models via the studio  \n",
        "\n",
        "[Great resource for getting started quickly](https://techcommunity.microsoft.com/t5/educator-developer-blog/azure-openai-is-now-generally-available/ba-p/3719177?WT.mc_id=academic-105485-koreyst)\n"
      ]
    },
    {
      "attachments": {},
      "cell_type": "markdown",
      "metadata": {
        "nteract": {
          "transient": {
            "deleting": false
          }
        }
      },
      "source": [
        "### Build your first prompt  \n",
        "This short exercise will provide a basic introduction for submitting prompts to an OpenAI model for a simple task \"summarization\".  \n",
        "\n",
        "![](images/generative-AI-models-reduced.jpg)  \n",
        "\n",
        "\n",
        "**Steps**:  \n",
        "1. Install OpenAI library in your python environment  \n",
        "2. Load standard helper libraries and set your typical OpenAI security credentials for the OpenAI Service that you've created  \n",
        "3. Choose a model for your task  \n",
        "4. Create a simple prompt for the model  \n",
        "5. Submit your request to the model API!"
      ]
    },
    {
      "attachments": {},
      "cell_type": "markdown",
      "metadata": {
        "nteract": {
          "transient": {
            "deleting": false
          }
        }
      },
      "source": [
        "### 1. Install OpenAI"
      ]
    },
    {
      "cell_type": "markdown",
      "metadata": {},
      "source": [
        "  > [!NOTE] This step is not necessary if run this notebook on Codespaces or within a Devcontainer"
      ]
    },
    {
      "cell_type": "code",
      "execution_count": null,
      "metadata": {
        "gather": {
          "logged": 1674254990318
        },
        "jupyter": {
          "outputs_hidden": true,
          "source_hidden": false
        },
        "nteract": {
          "transient": {
            "deleting": false
          }
        }
      },
      "outputs": [],
      "source": [
        "%pip install openai python-dotenv"
      ]
    },
    {
      "attachments": {},
      "cell_type": "markdown",
      "metadata": {
        "nteract": {
          "transient": {
            "deleting": false
          }
        }
      },
      "source": [
        "### 2. Import helper libraries and instantiate credentials"
      ]
    },
    {
      "cell_type": "code",
      "execution_count": null,
      "metadata": {
        "gather": {
          "logged": 1674829434433
        },
        "jupyter": {
          "outputs_hidden": false,
          "source_hidden": false
        },
        "nteract": {
          "transient": {
            "deleting": false
          }
        }
      },
      "outputs": [],
      "source": [
        "import os\n",
        "from openai import AzureOpenAI\n",
        "import numpy as np\n",
        "from dotenv import load_dotenv\n",
        "load_dotenv()\n",
        "\n",
        "#validate data inside .env file\n",
        "\n",
        "client = AzureOpenAI(\n",
        "  api_key=os.environ['AZURE_OPENAI_KEY'],  # this is also the default, it can be omitted\n",
        "  api_version = \"2023-05-15\"\n",
        "  )"
      ]
    },
    {
      "attachments": {},
      "cell_type": "markdown",
      "metadata": {
        "nteract": {
          "transient": {
            "deleting": false
          }
        }
      },
      "source": [
        "### 3. Finding the right model  \n",
        "The GPT-3.5-turbo or GPT-4 models can understand and generate natural language. The service offers four model capabilities, each with different levels of power and speed suitable for different tasks. \n",
        "\n",
        "[Azure OpenAI models](https://learn.microsoft.com/azure/cognitive-services/openai/concepts/models?WT.mc_id=academic-105485-koreyst)  \n",
        "![](images/a-b-c-d-models-reduced.jpg)  \n"
      ]
    },
    {
      "cell_type": "code",
      "execution_count": null,
      "metadata": {
        "gather": {
          "logged": 1674742720788
        },
        "jupyter": {
          "outputs_hidden": true,
          "source_hidden": false
        },
        "nteract": {
          "transient": {
            "deleting": false
          }
        }
      },
      "outputs": [],
      "source": [
        "# Select the General Purpose curie model for text\n",
        "model = os.environ['AZURE_OPENAI_DEPLOYMENT']"
      ]
    },
    {
      "attachments": {},
      "cell_type": "markdown",
      "metadata": {
        "nteract": {
          "transient": {
            "deleting": false
          }
        }
      },
      "source": [
        "## 4. Prompt Design  \n",
        "\n",
        "\"The magic of large language models is that by being trained to minimize this prediction error over vast quantities of text, the models end up learning concepts useful for these predictions. For example, they learn concepts like\"(1):\n",
        "\n",
        "* how to spell\n",
        "* how grammar works\n",
        "* how to paraphrase\n",
        "* how to answer questions\n",
        "* how to hold a conversation\n",
        "* how to write in many languages\n",
        "* how to code\n",
        "* etc.\n",
        "\n",
        "#### How to control a large language model  \n",
        "\"Of all the inputs to a large language model, by far the most influential is the text prompt(1).\n",
        "\n",
        "Large language models can be prompted to produce output in a few ways:\n",
        "\n",
        "- Instruction: Tell the model what you want\n",
        "- Completion: Induce the model to complete the beginning of what you want\n",
        "- Demonstration: Show the model what you want, with either:\n",
        "- A few examples in the prompt\n",
        "- Many hundreds or thousands of examples in a fine-tuning training dataset\n",
        "\n",
        "\n",
        "\n",
        "#### There are three basic guidelines to creating prompts:\n",
        "\n",
        "**Show and tell**. Make it clear what you want either through instructions, examples, or a combination of the two. If you want the model to rank a list of items in alphabetical order or to classify a paragraph by sentiment, show it that's what you want.\n",
        "\n",
        "**Provide quality data**. If you're trying to build a classifier or get the model to follow a pattern, make sure that there are enough examples. Be sure to proofread your examples — the model is usually smart enough to see through basic spelling mistakes and give you a response, but it also might assume this is intentional and it can affect the response.\n",
        "\n",
        "**Check your settings.** The temperature and top_p settings control how deterministic the model is in generating a response. If you're asking it for a response where there's only one right answer, then you'd want to set these lower. If you're looking for more diverse responses, then you might want to set them higher. The number one mistake people make with these settings is assuming that they're \"cleverness\" or \"creativity\" controls.\n",
        "\n",
        "\n",
        "Source: https://github.com/Azure/OpenAI/blob/main/How%20to/Completions.md"
      ]
    },
    {
      "attachments": {},
      "cell_type": "markdown",
      "metadata": {
        "nteract": {
          "transient": {
            "deleting": false
          }
        }
      },
      "source": [
        "![](images/prompt_design.jpg)\n",
        "image is creating your first text prompt!"
      ]
    },
    {
      "attachments": {},
      "cell_type": "markdown",
      "metadata": {
        "nteract": {
          "transient": {
            "deleting": false
          }
        }
      },
      "source": [
        "### 5. Submit!"
      ]
    },
    {
      "cell_type": "code",
      "execution_count": null,
      "metadata": {
        "gather": {
          "logged": 1674494935186
        },
        "jupyter": {
          "outputs_hidden": false,
          "source_hidden": false
        },
        "nteract": {
          "transient": {
            "deleting": false
          }
        }
      },
      "outputs": [],
      "source": [
        "# Create your first prompt\n",
        "text_prompt = \"Should oxford commas always be used?\"\n",
        "\n",
        "response = client.chat.completions.create(\n",
        "  model=model,\n",
        "  messages = [{\"role\":\"system\", \"content\":\"You are a helpful assistant.\"},\n",
        "               {\"role\":\"user\",\"content\":text_prompt},])\n",
        "\n",
        "response.choices[0].message.content"
      ]
    },
    {
      "attachments": {},
      "cell_type": "markdown",
      "metadata": {
        "nteract": {
          "transient": {
            "deleting": false
          }
        }
      },
      "source": [
        "### Repeat the same call, how do the results compare?"
      ]
    },
    {
      "cell_type": "code",
      "execution_count": null,
      "metadata": {
        "gather": {
          "logged": 1674494940872
        },
        "jupyter": {
          "outputs_hidden": false,
          "source_hidden": false
        },
        "nteract": {
          "transient": {
            "deleting": false
          }
        }
      },
      "outputs": [],
      "source": [
        "\n",
        "response = client.chat.completions.create(\n",
        "  model=model,\n",
        "  messages = [{\"role\":\"system\", \"content\":\"You are a helpful assistant.\"},\n",
        "               {\"role\":\"user\",\"content\":text_prompt},])\n",
        "\n",
        "response.choices[0].message.content"
      ]
    },
    {
      "cell_type": "code",
      "execution_count": null,
      "metadata": {},
      "outputs": [],
      "source": []
    },
    {
      "cell_type": "code",
      "execution_count": 24,
      "metadata": {},
      "outputs": [],
      "source": [
        "import os\n",
        "from openai import OpenAI\n",
        "\n",
        "from dotenv import load_dotenv\n",
        "load_dotenv()\n",
        "\n",
        "api_key = os.environ['OPEN_AI_API_KEY']\n",
        "client = OpenAI(api_key=api_key)\n",
        "\n",
        "import numpy as np\n",
        "\n",
        "#Functions made for ease of use\n",
        "def add_to_context(message_log, conversation, role = \"user\"):\n",
        "    message_log.append({\"role\": role, \"content\": conversation})\n",
        "\n",
        "def submit_to_gpt(message_log):\n",
        "    response = client.chat.completions.create(\n",
        "        model=\"gpt-3.5-turbo\",\n",
        "        messages=message_log\n",
        "        )   \n",
        "    print(response.choices[0].message.content)\n",
        "    add_to_context(message_log=message_log, role = \"assistant\", conversation = response.choices[0].message.content)\n",
        "\n",
        "def converse(conversation, role=\"user\", system_start = None, message_log = None):\n",
        "    if not message_log:\n",
        "        message_log = []\n",
        "        if system_start:\n",
        "            add_to_context(message_log, system_start, \"system\")\n",
        "    \n",
        "    add_to_context(message_log, conversation, role)\n",
        "    response = client.chat.completions.create(\n",
        "        model=\"gpt-3.5-turbo\",\n",
        "        messages=message_log\n",
        "    )\n",
        "    response_content = response.choices[0].message.content\n",
        "    add_to_context(message_log, response_content, \"assistant\")\n",
        "    print(response_content)\n",
        "    return message_log"
      ]
    },
    {
      "attachments": {},
      "cell_type": "markdown",
      "metadata": {
        "nteract": {
          "transient": {
            "deleting": false
          }
        }
      },
      "source": [
        "## Summarize Text  \n",
        "#### Challenge  \n",
        "Summarize text by adding a 'tl;dr:' to the end of a text passage. Notice how the model understands how to perform a number of tasks with no additional instructions. You can experiment with more descriptive prompts than tl;dr to modify the model’s behavior and customize the summarization you receive(3).  \n",
        "\n",
        "Recent work has demonstrated substantial gains on many NLP tasks and benchmarks by pre-training on a large corpus of text followed by fine-tuning on a specific task. While typically task-agnostic in architecture, this method still requires task-specific fine-tuning datasets of thousands or tens of thousands of examples. By contrast, humans can generally perform a new language task from only a few examples or from simple instructions - something that current NLP systems still largely struggle to do. Here we show that scaling up language models greatly improves task-agnostic, few-shot performance, sometimes even reaching competitiveness with prior state-of-the-art fine-tuning approaches. \n",
        "\n",
        "\n",
        "\n",
        "Tl;dr"
      ]
    },
    {
      "attachments": {},
      "cell_type": "markdown",
      "metadata": {
        "nteract": {
          "transient": {
            "deleting": false
          }
        }
      },
      "source": [
        "# Exercises for several use cases  \n",
        "1. Summarize Text  \n",
        "2. Classify Text  \n",
        "3. Generate New Product Names\n",
        "4. Embeddings\n",
        "5. Fine tune a classifier"
      ]
    },
    {
      "cell_type": "code",
      "execution_count": 11,
      "metadata": {
        "gather": {
          "logged": 1674495198534
        },
        "jupyter": {
          "outputs_hidden": false,
          "source_hidden": false
        },
        "nteract": {
          "transient": {
            "deleting": false
          }
        }
      },
      "outputs": [],
      "source": [
        "prompt = \"Recent work has demonstrated substantial gains on many NLP tasks and benchmarks by pre-training on a large corpus of text followed by fine-tuning on a specific task. While typically task-agnostic in architecture, this method still requires task-specific fine-tuning datasets of thousands or tens of thousands of examples. By contrast, humans can generally perform a new language task from only a few examples or from simple instructions - something that current NLP systems still largely struggle to do. Here we show that scaling up language models greatly improves task-agnostic, few-shot performance, sometimes even reaching competitiveness with prior state-of-the-art fine-tuning approaches.\\n\\ntl;dr in less than 100 words\"\n"
      ]
    },
    {
      "cell_type": "code",
      "execution_count": 12,
      "metadata": {},
      "outputs": [
        {
          "name": "stdout",
          "output_type": "stream",
          "text": [
            "Recent work has shown significant improvements in NLP tasks by pre-training on a large text corpus and fine-tuning on specific tasks. While current methods require thousands of examples for task-specific fine-tuning, humans can perform new language tasks with just a few examples. Scaling up language models enhances few-shot performance, sometimes even rivaling state-of-the-art fine-tuning techniques.\n"
          ]
        }
      ],
      "source": [
        "tsum = converse(prompt, system_start = \"You are a helpful assistant, expert at summarizing text\")"
      ]
    },
    {
      "cell_type": "code",
      "execution_count": 13,
      "metadata": {},
      "outputs": [
        {
          "data": {
            "text/plain": [
              "[{'role': 'system',\n",
              "  'content': 'You are a helpful assistant, expert at summarizing text'},\n",
              " {'role': 'user',\n",
              "  'content': 'Recent work has demonstrated substantial gains on many NLP tasks and benchmarks by pre-training on a large corpus of text followed by fine-tuning on a specific task. While typically task-agnostic in architecture, this method still requires task-specific fine-tuning datasets of thousands or tens of thousands of examples. By contrast, humans can generally perform a new language task from only a few examples or from simple instructions - something that current NLP systems still largely struggle to do. Here we show that scaling up language models greatly improves task-agnostic, few-shot performance, sometimes even reaching competitiveness with prior state-of-the-art fine-tuning approaches.\\n\\ntl;dr in less than 100 words'},\n",
              " {'role': 'assistant',\n",
              "  'content': 'Recent work has shown significant improvements in NLP tasks by pre-training on a large text corpus and fine-tuning on specific tasks. While current methods require thousands of examples for task-specific fine-tuning, humans can perform new language tasks with just a few examples. Scaling up language models enhances few-shot performance, sometimes even rivaling state-of-the-art fine-tuning techniques.'}]"
            ]
          },
          "execution_count": 13,
          "metadata": {},
          "output_type": "execute_result"
        }
      ],
      "source": [
        "tsum"
      ]
    },
    {
      "cell_type": "code",
      "execution_count": null,
      "metadata": {
        "gather": {
          "logged": 1674495201868
        },
        "jupyter": {
          "outputs_hidden": false,
          "source_hidden": false
        },
        "nteract": {
          "transient": {
            "deleting": false
          }
        }
      },
      "outputs": [],
      "source": [
        "#Setting a few additional, typical parameters during API Call\n",
        "\n",
        "response = client.chat.completions.create(\n",
        "  model=model,\n",
        "  messages = [{\"role\":\"system\", \"content\":\"You are a helpful assistant.\"},\n",
        "               {\"role\":\"user\",\"content\":prompt},])\n",
        "\n",
        "response.choices[0].message.content"
      ]
    },
    {
      "attachments": {},
      "cell_type": "markdown",
      "metadata": {
        "nteract": {
          "transient": {
            "deleting": false
          }
        }
      },
      "source": [
        "## Classify Text  \n",
        "#### Challenge  \n",
        "Classify items into categories provided at inference time. In the following example, we provide both the categories and the text to classify in the prompt(*playground_reference). \n",
        "\n",
        "Customer Inquiry: Hello, one of the keys on my laptop keyboard broke recently and I'll need a replacement:\n",
        "\n",
        "Classified category:\n"
      ]
    },
    {
      "cell_type": "code",
      "execution_count": 14,
      "metadata": {
        "gather": {
          "logged": 1674499424645
        },
        "jupyter": {
          "outputs_hidden": false,
          "source_hidden": false
        },
        "nteract": {
          "transient": {
            "deleting": false
          }
        }
      },
      "outputs": [
        {
          "name": "stdout",
          "output_type": "stream",
          "text": [
            "Classify the following inquiry into one of the following: categories: [Pricing, Hardware Support, Software Support]\n",
            "\n",
            "inquiry: Hello, one of the keys on my laptop keyboard broke recently and I'll need a replacement:\n",
            "\n",
            "Classified category:\n"
          ]
        }
      ],
      "source": [
        "prompt = \"Classify the following inquiry into one of the following: categories: [Pricing, Hardware Support, Software Support]\\n\\ninquiry: Hello, one of the keys on my laptop keyboard broke recently and I'll need a replacement:\\n\\nClassified category:\"\n",
        "print(prompt)"
      ]
    },
    {
      "cell_type": "code",
      "execution_count": 16,
      "metadata": {},
      "outputs": [
        {
          "name": "stdout",
          "output_type": "stream",
          "text": [
            "Hardware Support\n"
          ]
        }
      ],
      "source": [
        "classifying = converse(prompt, system_start = \"You are a helpful assistant, expert at categorizing\")"
      ]
    },
    {
      "cell_type": "code",
      "execution_count": null,
      "metadata": {
        "gather": {
          "logged": 1674499378518
        },
        "jupyter": {
          "outputs_hidden": false,
          "source_hidden": false
        },
        "nteract": {
          "transient": {
            "deleting": false
          }
        }
      },
      "outputs": [],
      "source": [
        "#Setting a few additional, typical parameters during API Call\n",
        "\n",
        "response = client.chat.completions.create(\n",
        "  model=model,\n",
        "  messages = [{\"role\":\"system\", \"content\":\"You are a helpful assistant.\"},\n",
        "               {\"role\":\"user\",\"content\":prompt},])\n",
        "\n",
        "response.choices[0].message.content"
      ]
    },
    {
      "attachments": {},
      "cell_type": "markdown",
      "metadata": {
        "nteract": {
          "transient": {
            "deleting": false
          }
        }
      },
      "source": [
        "## Generate New Product Names\n",
        "#### Challenge\n",
        "Create product names from examples words. Here we include in the prompt information about the product we are going to generate names for. We also provide a similar example to show the pattern we wish to receive. We have also set the temperature value high to increase randomness and more innovative responses.\n",
        "\n",
        "Product description: A home milkshake maker\n",
        "Seed words: fast, healthy, compact.\n",
        "Product names: HomeShaker, Fit Shaker, QuickShake, Shake Maker\n",
        "\n",
        "Product description: A pair of shoes that can fit any foot size.\n",
        "Seed words: adaptable, fit, omni-fit."
      ]
    },
    {
      "cell_type": "code",
      "execution_count": 17,
      "metadata": {
        "gather": {
          "logged": 1674257087279
        },
        "jupyter": {
          "outputs_hidden": false,
          "source_hidden": false
        },
        "nteract": {
          "transient": {
            "deleting": false
          }
        }
      },
      "outputs": [
        {
          "name": "stdout",
          "output_type": "stream",
          "text": [
            "Product description: A home milkshake maker\n",
            "Seed words: fast, healthy, compact.\n",
            "Product names: HomeShaker, Fit Shaker, QuickShake, Shake Maker\n",
            "\n",
            "Product description: A pair of shoes that can fit any foot size.\n",
            "Seed words: adaptable, fit, omni-fit.\n"
          ]
        }
      ],
      "source": [
        "prompt = \"Product description: A home milkshake maker\\nSeed words: fast, healthy, compact.\\nProduct names: HomeShaker, Fit Shaker, QuickShake, Shake Maker\\n\\nProduct description: A pair of shoes that can fit any foot size.\\nSeed words: adaptable, fit, omni-fit.\"\n",
        "\n",
        "print(prompt)"
      ]
    },
    {
      "cell_type": "code",
      "execution_count": 18,
      "metadata": {},
      "outputs": [
        {
          "name": "stdout",
          "output_type": "stream",
          "text": [
            "Product names: FlexFit Shoes, OneSizeFit, Adapt-a-Fit Shoes, Universal Fit Sneakers\n"
          ]
        }
      ],
      "source": [
        "brainstorm = converse(prompt, system_start = \"You are a helpful assistant, expert at market branding\")"
      ]
    },
    {
      "cell_type": "code",
      "execution_count": null,
      "metadata": {
        "jupyter": {
          "outputs_hidden": false,
          "source_hidden": false
        },
        "nteract": {
          "transient": {
            "deleting": false
          }
        }
      },
      "outputs": [],
      "source": [
        "#Setting a few additional, typical parameters during API Call\n",
        "\n",
        "response = client.chat.completions.create(\n",
        "  model=model,\n",
        "  messages = [{\"role\":\"system\", \"content\":\"You are a helpful assistant.\"},\n",
        "               {\"role\":\"user\",\"content\":prompt}])\n",
        "\n",
        "response.choices[0].message.content"
      ]
    },
    {
      "attachments": {},
      "cell_type": "markdown",
      "metadata": {
        "nteract": {
          "transient": {
            "deleting": false
          }
        }
      },
      "source": [
        "## Embeddings\n",
        "This section will show how to retrieve embeddings, and find similarities between words, sentences, and documents. In order to run the following noteboooks you need to deploy a model that uses `text-embedding-ada-002` as base model and set his deployment name inside .env file, using the `AZURE_OPENAI_EMBEDDINGS_DEPLOYMENT` variable."
      ]
    },
    {
      "attachments": {},
      "cell_type": "markdown",
      "metadata": {
        "nteract": {
          "transient": {
            "deleting": false
          }
        }
      },
      "source": [
        "### Model Taxonomy - Choosing an embedding model\n",
        "\n",
        "**Model taxonomy**: {family} - {capability} - {input-type} - {identifier}  \n",
        "\n",
        "{family}     --> text-embedding  (embeddings family)  \n",
        "{capability} --> ada             (all the other embedding models will be retired in 2024)  \n",
        "{input-type} --> n/a             (only specified for search models)  \n",
        "{identifier} --> 002             (version 002)  \n",
        "\n",
        "model = 'text-embedding-ada-002'"
      ]
    },
    {
      "cell_type": "markdown",
      "metadata": {},
      "source": [
        "  > [!NOTE] The following step is not necessary if run this notebook on Codespaces or within a Devcontainer"
      ]
    },
    {
      "cell_type": "code",
      "execution_count": null,
      "metadata": {},
      "outputs": [],
      "source": [
        "# Dependencies for embeddings_utils\n",
        "%pip install matplotlib plotly scikit-learn pandas"
      ]
    },
    {
      "cell_type": "code",
      "execution_count": 19,
      "metadata": {
        "gather": {
          "logged": 1674829364153
        },
        "jupyter": {
          "outputs_hidden": false,
          "source_hidden": false
        },
        "nteract": {
          "transient": {
            "deleting": false
          }
        }
      },
      "outputs": [],
      "source": [
        "def cosine_similarity(a, b):\n",
        "    return np.dot(a, b) / (np.linalg.norm(a) * np.linalg.norm(b))"
      ]
    },
    {
      "cell_type": "code",
      "execution_count": 21,
      "metadata": {
        "gather": {
          "logged": 1674829424097
        },
        "jupyter": {
          "outputs_hidden": false,
          "source_hidden": false
        },
        "nteract": {
          "transient": {
            "deleting": false
          }
        }
      },
      "outputs": [
        {
          "data": {
            "text/plain": [
              "[-0.03589176386594772,\n",
              " 0.024825137108564377,\n",
              " -0.0015463783638551831,\n",
              " -0.012620274908840656,\n",
              " -0.0074608344584703445,\n",
              " -0.023146864026784897,\n",
              " -0.0033669299446046352,\n",
              " 0.007938560098409653,\n",
              " -0.011041702702641487,\n",
              " 0.005603934172540903,\n",
              " -0.0034687062725424767,\n",
              " 0.02304716594517231,\n",
              " -0.01292768120765686,\n",
              " -0.009396662935614586,\n",
              " 0.08334865421056747,\n",
              " 0.0341968759894371,\n",
              " -0.00633090827614069,\n",
              " -0.016500242054462433,\n",
              " -0.0398465059697628,\n",
              " 0.04523026943206787,\n",
              " 0.020355282351374626,\n",
              " 0.010318881832063198,\n",
              " 0.030690781772136688,\n",
              " 0.00604842696338892,\n",
              " -0.010509972460567951,\n",
              " 0.003971357364207506,\n",
              " -0.03964710608124733,\n",
              " 0.0306741651147604,\n",
              " 0.07410984486341476,\n",
              " -0.030989879742264748,\n",
              " -0.020953478291630745,\n",
              " -0.048520348966121674,\n",
              " 0.04911854490637779,\n",
              " -0.06859315186738968,\n",
              " 0.031654540449380875,\n",
              " 0.03403070941567421,\n",
              " 0.05503403767943382,\n",
              " 0.002413555048406124,\n",
              " 0.028497396036982536,\n",
              " -0.04911854490637779,\n",
              " -0.02387799322605133,\n",
              " 0.013143696822226048,\n",
              " 0.033598680049180984,\n",
              " 0.030823713168501854,\n",
              " -0.006015193648636341,\n",
              " 0.008403823710978031,\n",
              " -0.05682862550020218,\n",
              " 0.005296527873724699,\n",
              " 0.03991297259926796,\n",
              " 0.04639342799782753,\n",
              " 0.01598512753844261,\n",
              " 0.011731289327144623,\n",
              " -0.006089968141168356,\n",
              " 0.08374744653701782,\n",
              " 0.01772986724972725,\n",
              " 0.0016471162671223283,\n",
              " -0.03449597209692001,\n",
              " 0.07085300236940384,\n",
              " 0.005259140394628048,\n",
              " 0.010742604732513428,\n",
              " 0.04243868589401245,\n",
              " -0.006630006246268749,\n",
              " 0.01768001727759838,\n",
              " 0.0182782132178545,\n",
              " -0.00885662529617548,\n",
              " 0.0023200868163257837,\n",
              " -0.037520185112953186,\n",
              " 0.028597095981240273,\n",
              " -0.028314614668488503,\n",
              " -0.02449280582368374,\n",
              " 0.03143852576613426,\n",
              " 0.004424158483743668,\n",
              " -0.02670280821621418,\n",
              " 0.033881161361932755,\n",
              " 0.03964710608124733,\n",
              " -0.004440775141119957,\n",
              " -0.02246558479964733,\n",
              " 0.02477528713643551,\n",
              " 0.0022847766522318125,\n",
              " -0.011997153982520103,\n",
              " 0.04559583216905594,\n",
              " 0.029427923262119293,\n",
              " -0.059487275779247284,\n",
              " -0.02891281060874462,\n",
              " -0.013476028107106686,\n",
              " 0.009753919206559658,\n",
              " -0.0897294133901596,\n",
              " 0.01579403690993786,\n",
              " -0.006156434305012226,\n",
              " -0.027400702238082886,\n",
              " -0.023146864026784897,\n",
              " 0.0014061761321499944,\n",
              " 0.006738014053553343,\n",
              " 0.0015713032335042953,\n",
              " 0.005886415485292673,\n",
              " -0.005574855022132397,\n",
              " -0.05227569118142128,\n",
              " 0.006006885319948196,\n",
              " -0.015960203483700752,\n",
              " -0.018909642472863197,\n",
              " 0.027649952098727226,\n",
              " -0.018460994586348534,\n",
              " 0.004744027275592089,\n",
              " -0.009097564965486526,\n",
              " 0.004731564782559872,\n",
              " 0.047390419989824295,\n",
              " -0.022382503375411034,\n",
              " -0.04526350274682045,\n",
              " -0.05815795063972473,\n",
              " 0.04293718561530113,\n",
              " -0.05762622132897377,\n",
              " 0.0033066950272768736,\n",
              " 0.010185949504375458,\n",
              " 0.048819445073604584,\n",
              " 0.030557848513126373,\n",
              " -0.0224323533475399,\n",
              " 0.06344201415777206,\n",
              " -0.04466530680656433,\n",
              " 0.017497234046459198,\n",
              " -0.02673604153096676,\n",
              " 0.01831144653260708,\n",
              " 0.01970723643898964,\n",
              " 0.014547795988619328,\n",
              " -0.056662458926439285,\n",
              " -0.0049600424244999886,\n",
              " -0.02617107704281807,\n",
              " -0.05081343278288841,\n",
              " -0.03158807381987572,\n",
              " -0.021701224148273468,\n",
              " -0.0005106995231471956,\n",
              " 0.0450308695435524,\n",
              " -0.006521998904645443,\n",
              " -0.03296725079417229,\n",
              " -0.02866356074810028,\n",
              " -0.07929421216249466,\n",
              " 0.014148999005556107,\n",
              " -0.006679856218397617,\n",
              " 0.05623042955994606,\n",
              " -0.07337871938943863,\n",
              " 0.03579206392168999,\n",
              " 0.04027853533625603,\n",
              " -0.011506966315209866,\n",
              " 0.013600652106106281,\n",
              " 0.007278052158653736,\n",
              " -0.021584907546639442,\n",
              " -0.030807096511125565,\n",
              " -0.027965666726231575,\n",
              " 0.0014705653302371502,\n",
              " -0.009537903591990471,\n",
              " 0.028563862666487694,\n",
              " -0.021501826122403145,\n",
              " 0.04665929451584816,\n",
              " -0.03281769901514053,\n",
              " -0.003713800571858883,\n",
              " -0.0019555611070245504,\n",
              " -0.0084536736831069,\n",
              " 0.02977687120437622,\n",
              " 0.02163475751876831,\n",
              " -0.034961238503456116,\n",
              " -0.0007435909355990589,\n",
              " -0.009238805621862411,\n",
              " -0.03228596970438957,\n",
              " 0.001108116703107953,\n",
              " -0.00527991121634841,\n",
              " -0.027035139501094818,\n",
              " 0.013451103121042252,\n",
              " 0.015129375271499157,\n",
              " -0.017347685992717743,\n",
              " -0.040079135447740555,\n",
              " 0.004110520705580711,\n",
              " 0.0010686523746699095,\n",
              " -0.03368176147341728,\n",
              " -0.04802184924483299,\n",
              " 0.01151527464389801,\n",
              " -0.05367147922515869,\n",
              " 0.026652958244085312,\n",
              " 0.014797043986618519,\n",
              " -0.008540910668671131,\n",
              " -0.051278695464134216,\n",
              " 0.058623213320970535,\n",
              " 0.024343255907297134,\n",
              " 0.06733029335737228,\n",
              " -0.003408471355214715,\n",
              " 0.01998971775174141,\n",
              " -0.012894448824226856,\n",
              " -0.01109155174344778,\n",
              " 0.03118927776813507,\n",
              " 0.004336921498179436,\n",
              " -0.020637763664126396,\n",
              " -0.023429345339536667,\n",
              " -0.02751701883971691,\n",
              " 0.015386932529509068,\n",
              " 0.053006816655397415,\n",
              " -0.02813183143734932,\n",
              " -0.008233504369854927,\n",
              " -0.03512740135192871,\n",
              " 0.01628422550857067,\n",
              " -0.008939707651734352,\n",
              " -0.00019251838966738433,\n",
              " 0.039480939507484436,\n",
              " 0.053305916488170624,\n",
              " 0.04609433189034462,\n",
              " -0.006825251039117575,\n",
              " 0.004748181439936161,\n",
              " -0.07065360248088837,\n",
              " -0.022083405405282974,\n",
              " -0.07224879413843155,\n",
              " 0.00789701845496893,\n",
              " -0.0174141526222229,\n",
              " -0.07131826132535934,\n",
              " 0.050182003527879715,\n",
              " -0.04071056470274925,\n",
              " -0.01856069453060627,\n",
              " -0.04217282310128212,\n",
              " -0.035625897347927094,\n",
              " -0.017214752733707428,\n",
              " 0.013143696822226048,\n",
              " 0.020305432379245758,\n",
              " -0.002059414517134428,\n",
              " 0.010418581776320934,\n",
              " -0.01660824939608574,\n",
              " 0.03831778094172478,\n",
              " 0.08780188858509064,\n",
              " 0.015411856584250927,\n",
              " 0.0005135554820299149,\n",
              " 0.03439627215266228,\n",
              " 0.03732078894972801,\n",
              " -0.01661655679345131,\n",
              " -0.011830989271402359,\n",
              " -0.0561639629304409,\n",
              " 0.07251465320587158,\n",
              " 0.00442831264808774,\n",
              " 0.0030096739064902067,\n",
              " -0.003188302041962743,\n",
              " 0.025639347732067108,\n",
              " -0.00035336147993803024,\n",
              " -0.019275207072496414,\n",
              " -0.0017582394648343325,\n",
              " -0.02161814086139202,\n",
              " -0.010659521445631981,\n",
              " -0.04645989462733269,\n",
              " -0.0250245351344347,\n",
              " 0.04609433189034462,\n",
              " 0.011839296668767929,\n",
              " -0.01084230374544859,\n",
              " 0.0160432867705822,\n",
              " 3.780915722018108e-05,\n",
              " -0.03908214345574379,\n",
              " -0.016998738050460815,\n",
              " 0.038085147738456726,\n",
              " 0.017912648618221283,\n",
              " 0.0037117234896868467,\n",
              " -0.04390094429254532,\n",
              " -0.044798240065574646,\n",
              " 0.038118381053209305,\n",
              " 0.00513036223128438,\n",
              " -0.01291937381029129,\n",
              " 0.05147809535264969,\n",
              " 0.06304322183132172,\n",
              " -0.003196610137820244,\n",
              " -0.025190701708197594,\n",
              " -0.036390259861946106,\n",
              " -0.04237222298979759,\n",
              " -0.028231531381607056,\n",
              " -0.03009258583188057,\n",
              " 0.016417158767580986,\n",
              " 0.047988615930080414,\n",
              " 0.006305983290076256,\n",
              " 0.04057763144373894,\n",
              " -0.034163642674684525,\n",
              " -0.007207431830465794,\n",
              " 0.025456566363573074,\n",
              " 0.026520024985074997,\n",
              " 0.022581901401281357,\n",
              " -0.05320621654391289,\n",
              " 0.05347208306193352,\n",
              " 0.018095431849360466,\n",
              " 0.012861215509474277,\n",
              " -0.015137683600187302,\n",
              " 0.07942714542150497,\n",
              " -0.042039889842271805,\n",
              " 0.007681003771722317,\n",
              " 0.015461706556379795,\n",
              " -0.017331069335341454,\n",
              " -0.07730022817850113,\n",
              " -0.018328063189983368,\n",
              " -0.0011486195726320148,\n",
              " -0.00238863006234169,\n",
              " 0.033282965421676636,\n",
              " 0.008914782665669918,\n",
              " 0.03599146381020546,\n",
              " -0.0025714123621582985,\n",
              " 0.038915976881980896,\n",
              " -0.005990269128233194,\n",
              " -0.03456243872642517,\n",
              " 0.03432980924844742,\n",
              " 0.04333598166704178,\n",
              " -0.025639347732067108,\n",
              " 0.024592505767941475,\n",
              " -0.010053017176687717,\n",
              " 0.024675587192177773,\n",
              " 0.0033586216159164906,\n",
              " -0.0028435082640498877,\n",
              " -0.032153040170669556,\n",
              " 0.0057659451849758625,\n",
              " 0.04632696136832237,\n",
              " 0.010983544401824474,\n",
              " -0.024658970534801483,\n",
              " 0.00897294096648693,\n",
              " -0.053571779280900955,\n",
              " -0.021867388859391212,\n",
              " 0.01361726876348257,\n",
              " -0.01909242384135723,\n",
              " 0.013675427064299583,\n",
              " -0.04532996937632561,\n",
              " -0.0657351016998291,\n",
              " 0.03944770619273186,\n",
              " 0.0844121128320694,\n",
              " -0.0146308783441782,\n",
              " -0.07696789503097534,\n",
              " 0.0663665309548378,\n",
              " -0.024293405935168266,\n",
              " 0.05280742049217224,\n",
              " -0.017596933990716934,\n",
              " -0.004449083004146814,\n",
              " -0.018444377928972244,\n",
              " -0.0015380700351670384,\n",
              " 0.007909481413662434,\n",
              " 0.02529039978981018,\n",
              " -5.374417742132209e-05,\n",
              " -0.0224323533475399,\n",
              " -0.03092341311275959,\n",
              " 0.009305272251367569,\n",
              " 0.005911340471357107,\n",
              " 0.06689825654029846,\n",
              " -0.011191251687705517,\n",
              " -0.008486906997859478,\n",
              " 0.05646306276321411,\n",
              " -0.025174085050821304,\n",
              " 0.003273461712524295,\n",
              " -2.674227289389819e-05,\n",
              " -0.03536003455519676,\n",
              " -0.023495811969041824,\n",
              " -0.01067613810300827,\n",
              " 0.03064093180000782,\n",
              " -0.03506093472242355,\n",
              " -0.006995570845901966,\n",
              " 0.04134199395775795,\n",
              " 0.019192123785614967,\n",
              " 0.02954423986375332,\n",
              " -0.008208579383790493,\n",
              " 0.02529039978981018,\n",
              " 0.0343630388379097,\n",
              " -0.025257166475057602,\n",
              " 0.02949438989162445,\n",
              " -0.04891914501786232,\n",
              " 0.004544628318399191,\n",
              " 0.0182782132178545,\n",
              " 0.011739597655832767,\n",
              " 0.022415736690163612,\n",
              " 0.0019669849425554276,\n",
              " -0.005861490499228239,\n",
              " 0.00884000863879919,\n",
              " 0.0241604745388031,\n",
              " -0.0013781357556581497,\n",
              " 0.013359712436795235,\n",
              " -0.040345001965761185,\n",
              " 0.02808198146522045,\n",
              " 0.03089017979800701,\n",
              " -0.0031737624667584896,\n",
              " -0.007946868427097797,\n",
              " 0.021302426233887672,\n",
              " 0.008831700310111046,\n",
              " 0.011058319360017776,\n",
              " -0.03379807621240616,\n",
              " 0.003913199063390493,\n",
              " -0.01306892279535532,\n",
              " 0.03130559250712395,\n",
              " 0.01294429786503315,\n",
              " 0.02023896761238575,\n",
              " 0.004615248646587133,\n",
              " 0.014165614731609821,\n",
              " -0.013708659447729588,\n",
              " -0.009645911864936352,\n",
              " 0.013268320821225643,\n",
              " -0.0016232299385592341,\n",
              " 0.007427601143717766,\n",
              " 0.013800051063299179,\n",
              " 0.02957747131586075,\n",
              " -0.03532680124044418,\n",
              " 0.03831778094172478,\n",
              " 0.0007856516167521477,\n",
              " -0.015195841901004314,\n",
              " 0.029095591977238655,\n",
              " 0.021717840805649757,\n",
              " 0.027151454240083694,\n",
              " 0.03226935490965843,\n",
              " 0.035592664033174515,\n",
              " 0.007635307963937521,\n",
              " 0.019524455070495605,\n",
              " 0.05586486682295799,\n",
              " 0.0010707294568419456,\n",
              " -0.04925147444009781,\n",
              " -0.0029078975785523653,\n",
              " -0.013991141691803932,\n",
              " -0.012420876882970333,\n",
              " -0.03512740135192871,\n",
              " 0.008125496096909046,\n",
              " 0.007053728681057692,\n",
              " -0.02445957250893116,\n",
              " 0.06613390147686005,\n",
              " -0.014057607389986515,\n",
              " 0.05061403289437294,\n",
              " 0.022415736690163612,\n",
              " -0.004060671199113131,\n",
              " -0.012088545598089695,\n",
              " 0.02447618916630745,\n",
              " 0.03678905963897705,\n",
              " -0.006193821784108877,\n",
              " -0.01739753596484661,\n",
              " -0.05626366287469864,\n",
              " -0.002018911764025688,\n",
              " -0.020637763664126396,\n",
              " -0.00855752732604742,\n",
              " -0.01449794601649046,\n",
              " 0.06749645620584488,\n",
              " 0.02391122654080391,\n",
              " -0.02612122893333435,\n",
              " 0.00801748875528574,\n",
              " -0.03339928016066551,\n",
              " -0.016151294112205505,\n",
              " -0.025672581046819687,\n",
              " -0.02956085465848446,\n",
              " 0.026337243616580963,\n",
              " 0.007161736022680998,\n",
              " -0.020139267668128014,\n",
              " -0.027367470785975456,\n",
              " 0.05985283851623535,\n",
              " 0.028514012694358826,\n",
              " -0.036988455802202225,\n",
              " -0.018444377928972244,\n",
              " -0.0056247045285999775,\n",
              " -0.0199232529848814,\n",
              " -0.03298386558890343,\n",
              " 0.016167910769581795,\n",
              " -0.0017572009237483144,\n",
              " 0.024958068504929543,\n",
              " 0.028331229463219643,\n",
              " 0.00843705702573061,\n",
              " -0.04127552732825279,\n",
              " 0.002442633965983987,\n",
              " 0.02136889286339283,\n",
              " -0.034130409359931946,\n",
              " -0.03944770619273186,\n",
              " -0.0298101045191288,\n",
              " 0.02555626444518566,\n",
              " 0.001906749908812344,\n",
              " 0.019325057044625282,\n",
              " 0.006787863560020924,\n",
              " -0.014090840704739094,\n",
              " 0.01181437261402607,\n",
              " -0.03459567204117775,\n",
              " -0.014389938674867153,\n",
              " 0.003769881557673216,\n",
              " -0.021136261522769928,\n",
              " -0.06912487745285034,\n",
              " 0.013824976049363613,\n",
              " 0.027483785524964333,\n",
              " 0.04303688183426857,\n",
              " -0.021800924092531204,\n",
              " 0.02077069692313671,\n",
              " 0.0034666291903704405,\n",
              " -0.022880999371409416,\n",
              " -0.010634596459567547,\n",
              " 0.0011517350794747472,\n",
              " 0.021518440917134285,\n",
              " -0.003747033653780818,\n",
              " -0.007012187037616968,\n",
              " -0.005529159680008888,\n",
              " -0.05563223361968994,\n",
              " 0.025091001763939857,\n",
              " -0.015810653567314148,\n",
              " -0.05054756626486778,\n",
              " 0.017646783962845802,\n",
              " -0.004247607663273811,\n",
              " 0.10887168347835541,\n",
              " 0.026054762303829193,\n",
              " -0.029311606660485268,\n",
              " 0.00309067964553833,\n",
              " 0.008623993024230003,\n",
              " 0.0030844483990222216,\n",
              " 0.00596534414216876,\n",
              " 0.04217282310128212,\n",
              " -0.022332653403282166,\n",
              " -0.030773865059018135,\n",
              " -0.001040611881762743,\n",
              " -0.03168777376413345,\n",
              " -0.03210318833589554,\n",
              " 0.013750201091170311,\n",
              " -0.07125179469585419,\n",
              " 0.038085147738456726,\n",
              " 0.0056247045285999775,\n",
              " -0.028032131493091583,\n",
              " 0.02555626444518566,\n",
              " 0.06749645620584488,\n",
              " -0.013733584433794022,\n",
              " 0.011573432013392448,\n",
              " 0.038915976881980896,\n",
              " -0.002311778487637639,\n",
              " 0.016093134880065918,\n",
              " 0.0022743912413716316,\n",
              " -0.01794588193297386,\n",
              " 0.006825251039117575,\n",
              " -0.003531018504872918,\n",
              " -0.03516063466668129,\n",
              " 0.016990430653095245,\n",
              " -0.0511457622051239,\n",
              " 0.041807256639003754,\n",
              " -0.03268476948142052,\n",
              " -0.01909242384135723,\n",
              " -0.02927837334573269,\n",
              " 0.04054439812898636,\n",
              " 0.01577742211520672,\n",
              " -0.03368176147341728,\n",
              " -0.009488054551184177,\n",
              " -0.036955222487449646,\n",
              " -0.018161896616220474,\n",
              " -0.022664984688162804,\n",
              " -0.008200271055102348,\n",
              " -0.012545500881969929,\n",
              " 0.01854407787322998,\n",
              " -0.03848394751548767,\n",
              " 0.048520348966121674,\n",
              " 0.028813110664486885,\n",
              " -0.012636891566216946,\n",
              " -0.002313855569809675,\n",
              " -0.012587042525410652,\n",
              " 0.0071700443513691425,\n",
              " 0.011556815356016159,\n",
              " -0.0006231209263205528,\n",
              " 0.017347685992717743,\n",
              " 0.03426334261894226,\n",
              " -0.0022432352416217327,\n",
              " 0.004469853825867176,\n",
              " -0.026254160329699516,\n",
              " 0.00788871105760336,\n",
              " -0.013226780109107494,\n",
              " -0.011050011031329632,\n",
              " 0.0009128721430897713,\n",
              " 0.010593055747449398,\n",
              " 0.02219972014427185,\n",
              " -0.04473177343606949,\n",
              " -0.0017592780059203506,\n",
              " 0.01110816840082407,\n",
              " -0.01685749739408493,\n",
              " -0.01307723019272089,\n",
              " -0.00681694271042943,\n",
              " -0.012695049867033958,\n",
              " 0.005080512259155512,\n",
              " 0.013467719778418541,\n",
              " -0.000646487926132977,\n",
              " -0.034961238503456116,\n",
              " 0.022050172090530396,\n",
              " 0.011731289327144623,\n",
              " -0.03941447287797928,\n",
              " 0.011174635030329227,\n",
              " -0.027616718783974648,\n",
              " 0.017513850703835487,\n",
              " 0.03251860290765762,\n",
              " -0.013193546794354916,\n",
              " 0.005869798827916384,\n",
              " 0.029693787917494774,\n",
              " -0.0037636503111571074,\n",
              " -0.003123912727460265,\n",
              " -0.01691565476357937,\n",
              " -0.032435521483421326,\n",
              " 0.028198298066854477,\n",
              " -0.007020495366305113,\n",
              " -0.0338146947324276,\n",
              " 0.011349109001457691,\n",
              " -0.00046110947732813656,\n",
              " 0.03519386798143387,\n",
              " -0.003254768205806613,\n",
              " 0.0306741651147604,\n",
              " -0.018178513273596764,\n",
              " 0.02389460988342762,\n",
              " 0.01606821082532406,\n",
              " -0.03745371848344803,\n",
              " -0.027384087443351746,\n",
              " -0.015818962827324867,\n",
              " 0.06503720581531525,\n",
              " -0.0017353916773572564,\n",
              " -0.0029099746607244015,\n",
              " 0.03348236158490181,\n",
              " 0.020571298897266388,\n",
              " 0.01361726876348257,\n",
              " 0.001270128064788878,\n",
              " -0.046227261424064636,\n",
              " -0.031637925654649734,\n",
              " -0.007008032873272896,\n",
              " 0.013318170793354511,\n",
              " -0.03848394751548767,\n",
              " 0.02387799322605133,\n",
              " -0.011889146640896797,\n",
              " 0.011357417330145836,\n",
              " 0.020072801038622856,\n",
              " 0.019042573869228363,\n",
              " 0.0035580203402787447,\n",
              " 0.0033710841089487076,\n",
              " -0.007215740159153938,\n",
              " -0.007128503173589706,\n",
              " 0.004179064184427261,\n",
              " 0.006696472410112619,\n",
              " -0.003088602563366294,\n",
              " -0.01967400312423706,\n",
              " -0.006305983290076256,\n",
              " -0.022448968142271042,\n",
              " 0.023246563971042633,\n",
              " -0.0053422232158482075,\n",
              " 0.01024410780519247,\n",
              " -0.014597645960748196,\n",
              " 0.0028248147573322058,\n",
              " 0.034163642674684525,\n",
              " 0.036556426435709,\n",
              " -0.01799573190510273,\n",
              " 0.02585536241531372,\n",
              " 0.0012088544899597764,\n",
              " -0.03964710608124733,\n",
              " 0.03339928016066551,\n",
              " 0.011565123684704304,\n",
              " -0.015104450285434723,\n",
              " 0.009238805621862411,\n",
              " 0.03549296781420708,\n",
              " -0.027201304212212563,\n",
              " -0.051278695464134216,\n",
              " -0.017812948673963547,\n",
              " 0.05908847972750664,\n",
              " -0.012429185211658478,\n",
              " 0.002693959278985858,\n",
              " -0.02133565954864025,\n",
              " 0.022349270060658455,\n",
              " -0.005171903409063816,\n",
              " 0.015877120196819305,\n",
              " -0.04499763622879982,\n",
              " 0.03348236158490181,\n",
              " -0.01990663632750511,\n",
              " 0.013276629149913788,\n",
              " 0.012354410253465176,\n",
              " -0.01829482987523079,\n",
              " 0.0005628858925774693,\n",
              " 0.027616718783974648,\n",
              " 0.013791742734611034,\n",
              " 0.03406394273042679,\n",
              " -0.00013513934391085058,\n",
              " 0.010858920402824879,\n",
              " -0.025124235078692436,\n",
              " -0.04476500675082207,\n",
              " -0.01576080545783043,\n",
              " -0.029843337833881378,\n",
              " -0.020604530349373817,\n",
              " 0.0010032246354967356,\n",
              " 0.024094007909297943,\n",
              " 0.009197264909744263,\n",
              " -0.03143852576613426,\n",
              " -0.021501826122403145,\n",
              " 0.02421032451093197,\n",
              " -0.01967400312423706,\n",
              " -0.06334231793880463,\n",
              " -0.003823885228484869,\n",
              " -0.002563104033470154,\n",
              " -0.03432980924844742,\n",
              " 0.05563223361968994,\n",
              " 0.03182070702314377,\n",
              " 0.022681601345539093,\n",
              " 0.04386771097779274,\n",
              " 0.03122251108288765,\n",
              " 0.006164742633700371,\n",
              " -0.06663239747285843,\n",
              " -0.01660824939608574,\n",
              " 0.0004862939240410924,\n",
              " -0.0032360744662582874,\n",
              " 0.018377913162112236,\n",
              " -0.008183654397726059,\n",
              " -5.4101172281662e-05,\n",
              " 0.008507677353918552,\n",
              " 0.01336802076548338,\n",
              " 0.012179936282336712,\n",
              " 0.044000644236803055,\n",
              " -0.0009263730607926846,\n",
              " -0.004835417959839106,\n",
              " -0.021501826122403145,\n",
              " -0.0013521723449230194,\n",
              " 0.022282803431153297,\n",
              " -0.00492680910974741,\n",
              " 0.012960914522409439,\n",
              " -0.058290883898735046,\n",
              " 0.018460994586348534,\n",
              " 0.007955176755785942,\n",
              " -0.010734296403825283,\n",
              " -0.006987262517213821,\n",
              " 0.007203277666121721,\n",
              " -0.01654178276658058,\n",
              " -0.05181042477488518,\n",
              " -0.018793325871229172,\n",
              " -0.02783273346722126,\n",
              " 0.005184365902096033,\n",
              " -0.0001200156839331612,\n",
              " 0.012404260225594044,\n",
              " 0.03958063945174217,\n",
              " 0.0062104384414851665,\n",
              " -0.02499130181968212,\n",
              " 0.018477611243724823,\n",
              " -0.03619086369872093,\n",
              " -0.029594087973237038,\n",
              " 0.0049351174384355545,\n",
              " 0.01281136553734541,\n",
              " -0.010368731804192066,\n",
              " -0.012861215509474277,\n",
              " -0.007128503173589706,\n",
              " -0.02477528713643551,\n",
              " -0.015528173185884953,\n",
              " 0.010235799476504326,\n",
              " -0.012952606193721294,\n",
              " -0.028231531381607056,\n",
              " 0.00584487384185195,\n",
              " -0.016932271420955658,\n",
              " 0.013833284378051758,\n",
              " -0.013127080164849758,\n",
              " 0.010460122488439083,\n",
              " 0.024908220395445824,\n",
              " -0.004773105960339308,\n",
              " 0.00913910660892725,\n",
              " 0.03240228816866875,\n",
              " -0.018976109102368355,\n",
              " -0.003078217152506113,\n",
              " 0.031654540449380875,\n",
              " -0.034462738782167435,\n",
              " -0.009587753564119339,\n",
              " 0.01716490462422371,\n",
              " 0.0020417594350874424,\n",
              " -0.02218310348689556,\n",
              " -0.015860503539443016,\n",
              " 0.024243557825684547,\n",
              " -0.005603934172540903,\n",
              " 0.017796332016587257,\n",
              " 0.019358288496732712,\n",
              " -0.002762502757832408,\n",
              " 0.011033394373953342,\n",
              " -0.021535057574510574,\n",
              " -0.010053017176687717,\n",
              " -0.03426334261894226,\n",
              " 0.01572757214307785,\n",
              " -0.003254768205806613,\n",
              " -0.030557848513126373,\n",
              " -0.030275367200374603,\n",
              " -0.01882655918598175,\n",
              " 0.0035850221756845713,\n",
              " -0.007207431830465794,\n",
              " 0.025207318365573883,\n",
              " 0.053538545966148376,\n",
              " -0.013642193749547005,\n",
              " 0.0002574268146418035,\n",
              " 0.013658810406923294,\n",
              " 0.011897454969584942,\n",
              " -0.03904891014099121,\n",
              " -0.022615134716033936,\n",
              " 0.0019420601893216372,\n",
              " 0.021219342947006226,\n",
              " -0.010942002758383751,\n",
              " -0.008715384639799595,\n",
              " -0.010908769443631172,\n",
              " -0.04386771097779274,\n",
              " 0.012071928940713406,\n",
              " 0.014323472045361996,\n",
              " 0.0032485369592905045,\n",
              " -0.002293084980919957,\n",
              " -0.04576199874281883,\n",
              " 0.019890019670128822,\n",
              " 0.017497234046459198,\n",
              " 0.017630167305469513,\n",
              " -0.0071575818583369255,\n",
              " 0.0009497401188127697,\n",
              " -0.033731609582901,\n",
              " 0.006671547889709473,\n",
              " 0.014057607389986515,\n",
              " -0.031372059136629105,\n",
              " 0.031355444341897964,\n",
              " 0.003929815720766783,\n",
              " -0.023711826652288437,\n",
              " -0.036689359694719315,\n",
              " -0.00897294096648693,\n",
              " -0.023512428626418114,\n",
              " -0.0008775619207881391,\n",
              " -0.018743475899100304,\n",
              " -0.005308989901095629,\n",
              " -0.002507023047655821,\n",
              " -0.005525005515664816,\n",
              " -0.08893181383609772,\n",
              " -0.009064331650733948,\n",
              " 0.019574305042624474,\n",
              " -0.012038695625960827,\n",
              " -0.034130409359931946,\n",
              " -0.03376484289765358,\n",
              " -0.010202566161751747,\n",
              " 0.059487275779247284,\n",
              " 0.007356980815529823,\n",
              " 0.0010998083744198084,\n",
              " 0.03258506953716278,\n",
              " 0.006285212934017181,\n",
              " -0.011440499685704708,\n",
              " 0.00243017147295177,\n",
              " 0.0009912814712151885,\n",
              " -0.012719974853098392,\n",
              " 0.0454961322247982,\n",
              " -0.024609120562672615,\n",
              " -0.038716576993465424,\n",
              " -0.010202566161751747,\n",
              " -0.051843658089637756,\n",
              " 0.03293401747941971,\n",
              " -0.013584035448729992,\n",
              " 0.02193385548889637,\n",
              " -0.03522710129618645,\n",
              " -0.006654931232333183,\n",
              " -0.011432191357016563,\n",
              " 0.011606665328145027,\n",
              " 0.029029125347733498,\n",
              " -0.005570700857788324,\n",
              " 0.027882583439350128,\n",
              " 0.0343630388379097,\n",
              " 0.03296725079417229,\n",
              " -0.005379610229283571,\n",
              " 0.011141401715576649,\n",
              " -0.04855358228087425,\n",
              " -0.020953478291630745,\n",
              " -0.03509416803717613,\n",
              " 0.006555231753736734,\n",
              " -0.01718151941895485,\n",
              " -0.0165500920265913,\n",
              " -0.012985839508473873,\n",
              " -0.03343251347541809,\n",
              " 0.0400126688182354,\n",
              " -0.009363429620862007,\n",
              " 0.01683257333934307,\n",
              " -0.0233794953674078,\n",
              " 0.008682151325047016,\n",
              " -0.018726859241724014,\n",
              " 0.004590324126183987,\n",
              " 0.02050483226776123,\n",
              " 0.0012960914755240083,\n",
              " 0.039780039340257645,\n",
              " -0.019275207072496414,\n",
              " -0.02253205142915249,\n",
              " -0.005446076858788729,\n",
              " -0.03346574679017067,\n",
              " -0.024625737220048904,\n",
              " 0.020903628319501877,\n",
              " -0.010219182819128036,\n",
              " -0.013027381151914597,\n",
              " -0.01681595668196678,\n",
              " -0.04140846058726311,\n",
              " -0.017763100564479828,\n",
              " -0.004943425767123699,\n",
              " 0.007473296485841274,\n",
              " -0.02951100654900074,\n",
              " 0.006276904605329037,\n",
              " 0.012869523838162422,\n",
              " -0.004415850155055523,\n",
              " 0.02562273107469082,\n",
              " 0.02728438749909401,\n",
              " -0.0014954901998862624,\n",
              " 0.01363388542085886,\n",
              " 0.012263019569218159,\n",
              " -0.012047003954648972,\n",
              " -0.010086250491440296,\n",
              " -0.027400702238082886,\n",
              " 0.017081821337342262,\n",
              " -0.006368295755237341,\n",
              " 0.04782245308160782,\n",
              " 0.0015110681997612119,\n",
              " 0.020122651010751724,\n",
              " 0.034994468092918396,\n",
              " -0.019590921700000763,\n",
              " -0.0013937137555330992,\n",
              " -0.013434486463665962,\n",
              " -0.00486034294590354,\n",
              " -0.004166601691395044,\n",
              " -0.023761676624417305,\n",
              " 0.06124863028526306,\n",
              " 0.013833284378051758,\n",
              " -0.015644488856196404,\n",
              " 0.01208023726940155,\n",
              " 0.01942475512623787,\n",
              " -0.025689197704195976,\n",
              " -0.005990269128233194,\n",
              " -0.013235087506473064,\n",
              " 0.011698056012392044,\n",
              " -0.04366831108927727,\n",
              " 0.05699479207396507,\n",
              " -0.0008059030515141785,\n",
              " -0.009861926548182964,\n",
              " -0.016716256737709045,\n",
              " -0.04130876064300537,\n",
              " 0.011922379955649376,\n",
              " -0.003616178408265114,\n",
              " 0.0013293245574459434,\n",
              " -0.009496362879872322,\n",
              " -0.05310651659965515,\n",
              " 0.014672419987618923,\n",
              " 0.0018807866144925356,\n",
              " 0.05446907505393028,\n",
              " 0.009737302549183369,\n",
              " -0.03394762799143791,\n",
              " -0.00038088264409452677,\n",
              " 0.008673842996358871,\n",
              " 0.0011538121616467834,\n",
              " 0.0149050522595644,\n",
              " -0.03785251826047897,\n",
              " 0.007373597472906113,\n",
              " 0.0336485281586647,\n",
              " 0.011182943359017372,\n",
              " -0.023495811969041824,\n",
              " -0.016359001398086548,\n",
              " 0.015013059601187706,\n",
              " -0.026603108271956444,\n",
              " 0.01970723643898964,\n",
              " 0.012703358195722103,\n",
              " 0.028730027377605438,\n",
              " 0.008441210724413395,\n",
              " 0.024791903793811798,\n",
              " -0.021019944921135902,\n",
              " -0.0020324126817286015,\n",
              " -0.0064804572612047195,\n",
              " -0.03147175908088684,\n",
              " 0.02331303060054779,\n",
              " 0.0556987002491951,\n",
              " -0.010833995416760445,\n",
              " -0.00025989333516918123,\n",
              " 0.003672259161248803,\n",
              " -0.018460994586348534,\n",
              " -0.031006496399641037,\n",
              " -0.01965738646686077,\n",
              " -0.005795024335384369,\n",
              " -0.014855202287435532,\n",
              " -0.0014757580356672406,\n",
              " 0.012670124880969524,\n",
              " -0.016666406765580177,\n",
              " -0.00843705702573061,\n",
              " 0.030225517228245735,\n",
              " -0.00017044952255673707,\n",
              " -0.008881550282239914,\n",
              " -0.010202566161751747,\n",
              " -0.007049574516713619,\n",
              " 0.0241604745388031,\n",
              " -0.023163480684161186,\n",
              " 0.0021238038316369057,\n",
              " -0.018078815191984177,\n",
              " 0.048453882336616516,\n",
              " -0.022133253514766693,\n",
              " 0.029677171260118484,\n",
              " 0.010667829774320126,\n",
              " -0.003144683549180627,\n",
              " 0.019790319725871086,\n",
              " -0.015553097240626812,\n",
              " -0.0032173809595406055,\n",
              " 0.0004182698903605342,\n",
              " -0.01993986964225769,\n",
              " -0.009920084848999977,\n",
              " 0.03158807381987572,\n",
              " 0.04253838583827019,\n",
              " -0.022266186773777008,\n",
              " -0.03368176147341728,\n",
              " 0.01488843560218811,\n",
              " 0.022997315973043442,\n",
              " 0.056396596133708954,\n",
              " -0.026536641642451286,\n",
              " -0.019241973757743835,\n",
              " 0.01404929906129837,\n",
              " 0.004714948125183582,\n",
              " 0.009604370221495628,\n",
              " -0.019275207072496414,\n",
              " 0.036955222487449646,\n",
              " 0.026802506297826767,\n",
              " -0.02018911764025688,\n",
              " 0.04616079479455948,\n",
              " -0.01572757214307785,\n",
              " -0.02585536241531372,\n",
              " 0.047091323882341385,\n",
              " 0.00829997006803751,\n",
              " -0.017563700675964355,\n",
              " 0.04363507777452469,\n",
              " 0.0057617914862930775,\n",
              " 0.006895871367305517,\n",
              " -0.0080216433852911,\n",
              " 0.03539326786994934,\n",
              " 0.02082054689526558,\n",
              " 0.011025086045265198,\n",
              " -0.03295063227415085,\n",
              " 0.04526350274682045,\n",
              " 0.019258590415120125,\n",
              " 0.04084349796175957,\n",
              " ...]"
            ]
          },
          "execution_count": 21,
          "metadata": {},
          "output_type": "execute_result"
        }
      ],
      "source": [
        "text = 'the quick brown fox jumped over the lazy dog'\n",
        "client.embeddings.create(input='[text]', model=\"text-embedding-3-small\").data[0].embedding"
      ]
    },
    {
      "cell_type": "code",
      "execution_count": 22,
      "metadata": {},
      "outputs": [],
      "source": [
        "model = \"text-embedding-3-small\""
      ]
    },
    {
      "cell_type": "code",
      "execution_count": 25,
      "metadata": {
        "gather": {
          "logged": 1674829555255
        },
        "jupyter": {
          "outputs_hidden": false,
          "source_hidden": false
        },
        "nteract": {
          "transient": {
            "deleting": false
          }
        }
      },
      "outputs": [
        {
          "name": "stdout",
          "output_type": "stream",
          "text": [
            "0.6319429713575427\n",
            "0.3310373636824916\n",
            "0.22701063552028408\n"
          ]
        }
      ],
      "source": [
        "\n",
        "# compare several words\n",
        "automobile_embedding  = client.embeddings.create(input='automobile', model=model).data[0].embedding\n",
        "vehicle_embedding     = client.embeddings.create(input='vehicle', model=model).data[0].embedding\n",
        "dinosaur_embedding    = client.embeddings.create(input='dinosaur', model=model).data[0].embedding\n",
        "stick_embedding       = client.embeddings.create(input='stick', model=model).data[0].embedding\n",
        "\n",
        "print(cosine_similarity(automobile_embedding, vehicle_embedding))\n",
        "print(cosine_similarity(automobile_embedding, dinosaur_embedding))\n",
        "print(cosine_similarity(automobile_embedding, stick_embedding))"
      ]
    },
    {
      "attachments": {},
      "cell_type": "markdown",
      "metadata": {
        "nteract": {
          "transient": {
            "deleting": false
          }
        }
      },
      "source": [
        "## Comparing article from cnn daily news dataset\n",
        "source: https://huggingface.co/datasets/cnn_dailymail\n"
      ]
    },
    {
      "cell_type": "code",
      "execution_count": 26,
      "metadata": {
        "gather": {
          "logged": 1674831122093
        },
        "jupyter": {
          "outputs_hidden": false,
          "source_hidden": false
        },
        "nteract": {
          "transient": {
            "deleting": false
          }
        }
      },
      "outputs": [
        {
          "data": {
            "text/html": [
              "<div>\n",
              "<style scoped>\n",
              "    .dataframe tbody tr th:only-of-type {\n",
              "        vertical-align: middle;\n",
              "    }\n",
              "\n",
              "    .dataframe tbody tr th {\n",
              "        vertical-align: top;\n",
              "    }\n",
              "\n",
              "    .dataframe thead th {\n",
              "        text-align: right;\n",
              "    }\n",
              "</style>\n",
              "<table border=\"1\" class=\"dataframe\">\n",
              "  <thead>\n",
              "    <tr style=\"text-align: right;\">\n",
              "      <th></th>\n",
              "      <th>articles</th>\n",
              "      <th>highligths</th>\n",
              "    </tr>\n",
              "  </thead>\n",
              "  <tbody>\n",
              "    <tr>\n",
              "      <th>0</th>\n",
              "      <td>BREMEN, Germany -- Carlos Alberto, who scored ...</td>\n",
              "      <td>Werder Bremen pay a club record $10.7 million ...</td>\n",
              "    </tr>\n",
              "    <tr>\n",
              "      <th>1</th>\n",
              "      <td>(CNN) -- Football superstar, celebrity, fashio...</td>\n",
              "      <td>Beckham has agreed to a five-year contract wit...</td>\n",
              "    </tr>\n",
              "    <tr>\n",
              "      <th>2</th>\n",
              "      <td>LOS ANGELES, California (CNN) -- Youssif, the ...</td>\n",
              "      <td>Boy on meeting Spider-Man: \"It was my favorite...</td>\n",
              "    </tr>\n",
              "  </tbody>\n",
              "</table>\n",
              "</div>"
            ],
            "text/plain": [
              "                                            articles  \\\n",
              "0  BREMEN, Germany -- Carlos Alberto, who scored ...   \n",
              "1  (CNN) -- Football superstar, celebrity, fashio...   \n",
              "2  LOS ANGELES, California (CNN) -- Youssif, the ...   \n",
              "\n",
              "                                          highligths  \n",
              "0  Werder Bremen pay a club record $10.7 million ...  \n",
              "1  Beckham has agreed to a five-year contract wit...  \n",
              "2  Boy on meeting Spider-Man: \"It was my favorite...  "
            ]
          },
          "execution_count": 26,
          "metadata": {},
          "output_type": "execute_result"
        }
      ],
      "source": [
        "import pandas as pd\n",
        "cnn_daily_articles = ['BREMEN, Germany -- Carlos Alberto, who scored in FC Porto\\'s Champions League final victory against Monaco in 2004, has joined Bundesliga club Werder Bremen for a club record fee of 7.8 million euros ($10.7 million). Carlos Alberto enjoyed success at FC Porto under Jose Mourinho. \"I\\'m here to win titles with Werder,\" the 22-year-old said after his first training session with his new club. \"I like Bremen and would only have wanted to come here.\" Carlos Alberto started his career with Fluminense, and helped them to lift the Campeonato Carioca in 2002. In January 2004 he moved on to FC Porto, who were coached by José Mourinho, and the club won the Portuguese title as well as the Champions League. Early in 2005, he moved to Corinthians, where he impressed as they won the Brasileirão,but in 2006 Corinthians had a poor season and Carlos Alberto found himself at odds with manager, Emerson Leão. Their poor relationship came to a climax at a Copa Sul-Americana game against Club Atlético Lanús, and Carlos Alberto declared that he would not play for Corinthians again while Leão remained as manager. Since January this year he has been on loan with his first club Fluminense. Bundesliga champions VfB Stuttgart said on Sunday that they would sign a loan agreement with Real Zaragoza on Monday for Ewerthon, the third top Brazilian player to join the German league in three days. A VfB spokesman said Ewerthon, who played in the Bundesliga for Borussia Dortmund from 2001 to 2005, was expected to join the club for their pre-season training in Austria on Monday. On Friday, Ailton returned to Germany where he was the league\\'s top scorer in 2004, signing a one-year deal with Duisburg on a transfer from Red Star Belgrade. E-mail to a friend .',\n",
        "                        '(CNN) -- Football superstar, celebrity, fashion icon, multimillion-dollar heartthrob. Now, David Beckham is headed for the Hollywood Hills as he takes his game to U.S. Major League Soccer. CNN looks at how Bekham fulfilled his dream of playing for Manchester United, and his time playing for England. The world\\'s famous footballer has begun a five-year contract with the Los Angeles Galaxy team, and on Friday Beckham will meet the press and reveal his new shirt number. This week, we take an in depth look at the life and times of Beckham, as CNN\\'s very own \"Becks,\" Becky Anderson, sets out to examine what makes the man tick -- as footballer, fashion icon and global phenomenon. It\\'s a long way from the streets of east London to the Hollywood Hills and Becky charts Beckham\\'s incredible rise to football stardom, a journey that has seen his skills grace the greatest stages in world soccer. She goes in pursuit of the current hottest property on the sports/celebrity circuit in the U.S. and along the way explores exactly what\\'s behind the man with the golden boot. CNN will look back at the life of Beckham, the wonderfully talented youngster who fulfilled his dream of playing for Manchester United, his marriage to pop star Victoria, and the trials and tribulations of playing for England. We\\'ll look at the highs (scoring against Greece), the lows (being sent off during the World Cup), the Man. U departure for the Galacticos of Madrid -- and now the Home Depot stadium in L.A. We\\'ll ask how Beckham and his family will adapt to life in Los Angeles -- the people, the places to see and be seen and the celebrity endorsement. Beckham is no stranger to exposure. He has teamed with Reggie Bush in an Adidas commercial, is the face of Motorola, is the face on a PlayStation game and doesn\\'t need fashion tips as he has his own international clothing line. But what does the star couple need to do to become an accepted part of Tinseltown\\'s glitterati? The road to major league football in the U.S.A. is a well-worn route for some of the world\\'s greatest players. We talk to some of the former greats who came before him and examine what impact these overseas stars had on U.S. soccer and look at what is different now. We also get a rare glimpse inside the David Beckham academy in L.A, find out what drives the kids and who are their heroes. The perception that in the U.S.A. soccer is a \"game for girls\" after the teenage years is changing. More and more young kids are choosing the European game over the traditional U.S. sports. E-mail to a friend .',\n",
        "                        'LOS ANGELES, California (CNN) -- Youssif, the 5-year-old burned Iraqi boy, rounded the corner at Universal Studios when suddenly the little boy hero met his favorite superhero. Youssif has always been a huge Spider-Man fan. Meeting him was \"my favorite thing,\" he said. Spider-Man was right smack dab in front of him, riding a four-wheeler amid a convoy of other superheroes. The legendary climber of buildings and fighter of evil dismounted, walked over to Youssif and introduced himself. Spidey then gave the boy from a far-away land a gentle hug, embracing him in his iconic blue and red tights. He showed Youssif a few tricks, like how to shoot a web from his wrist. Only this time, no web was spun. \"All right Youssif!\" Spider-Man said after the boy mimicked his wrist movement. Other superheroes crowded around to get a closer look. Even the Green Goblin stopped his villainous ways to tell the boy hi. Youssif remained unfazed. He didn\\'t take a liking to Spider-Man\\'s nemesis. Spidey was just too cool. \"It was my favorite thing,\" the boy said later. \"I want to see him again.\" He then felt compelled to add: \"I know it\\'s not the real Spider-Man.\" This was the day of dreams when the boy\\'s nightmares were, at least temporarily, forgotten. He met SpongeBob, Lassie and a 3-year-old orangutan named Archie. The hairy, brownish-red primate took to the boy, grabbing his hand and holding it. Even when Youssif pulled away, Archie would inch his hand back toward the boy\\'s and then snatch it. See Youssif enjoy being a boy again » . The boy giggled inside a play area where sponge-like balls shot out of toy guns. It was a far different artillery than what he was used to seeing in central Baghdad, as recently as a week ago. He squealed with delight and raced around the room collecting as many balls as he could. He rode a tram through the back stages at Universal Studios. At one point, the car shook. Fire and smoke filled the air, debris cascaded down and a big rig skidded toward the vehicle. The boy and his family survived the pretend earthquake unscathed. \"Even I was scared,\" the dad said. \"Well, I wasn\\'t,\" Youssif replied. The father and mother grinned from ear to ear throughout the day. Youssif pushed his 14-month-old sister, Ayaa, in a stroller. \"Did you even need to ask us if we were interested in coming here?\" Youssif\\'s father said in amazement. \"Other than my wedding day, this is the happiest day of my life,\" he said. Just a day earlier, the mother and father talked about their journey out of Iraq and to the United States. They also discussed that day nine months ago when masked men grabbed their son outside the family home, doused him in gas and set him on fire. His mother heard her boy screaming from inside. The father sought help for his boy across Baghdad, but no one listened. He remembers his son\\'s two months of hospitalization. The doctors didn\\'t use anesthetics. He could hear his boy\\'s piercing screams from the other side of the hospital. Watch Youssif meet his doctor and play with his little sister » . The father knew that speaking to CNN would put his family\\'s lives in jeopardy. The possibility of being killed was better than seeing his son suffer, he said. \"Anything for Youssif,\" he said. \"We had to do it.\" They described a life of utter chaos in Baghdad. Neighbors had recently given birth to a baby girl. Shortly afterward, the father was kidnapped and killed. Then, there was the time when some girls wore tanktops and jeans. They were snatched off the street by gunmen. The stories can be even more gruesome. The couple said they had heard reports that a young girl was kidnapped and beheaded --and her killers sewed a dog\\'s head on the corpse and delivered it to her family\\'s doorstep. \"These are just some of the stories,\" said Youssif\\'s mother, Zainab. Under Saddam Hussein, there was more security and stability, they said. There was running water and electricity most of the time. But still life was tough under the dictator, like the time when Zainab\\'s uncle disappeared and was never heard from again after he read a \"religious book,\" she said. Sitting in the parking lot of a Target in suburban Los Angeles, Youssif\\'s father watched as husbands and wives, boyfriends and girlfriends, parents and their children, came and went. Some held hands. Others smiled and laughed. \"Iraq finished,\" he said in what few English words he knows. He elaborated in Arabic: His homeland won\\'t be enjoying such freedoms anytime soon. It\\'s just not possible. Too much violence. Too many killings. His two children have only seen war. But this week, the family has seen a much different side of America -- an outpouring of generosity and a peaceful nation at home. \"It\\'s been a dream,\" the father said. He used to do a lot of volunteer work back in Baghdad. \"Maybe that\\'s why I\\'m being helped now,\" the father said. At Universal Studios, he looked out across the valley below. The sun glistened off treetops and buildings. It was a picturesque sight fit for a Hollywood movie. \"Good America, good America,\" he said in English. E-mail to a friend . CNN\\'s Arwa Damon contributed to this report.'\n",
        "]\n",
        "\n",
        "cnn_daily_article_highlights = ['Werder Bremen pay a club record $10.7 million for Carlos Alberto .\\nThe Brazilian midfielder won the Champions League with FC Porto in 2004 .\\nSince January he has been on loan with his first club, Fluminense .',\n",
        "                                'Beckham has agreed to a five-year contract with Los Angeles Galaxy .\\nNew contract took effect July 1, 2007 .\\nFormer English captain to meet press, unveil new shirt number Friday .\\nCNN to look at Beckham as footballer, fashion icon and global phenomenon .',\n",
        "                                'Boy on meeting Spider-Man: \"It was my favorite thing\"\\nYoussif also met SpongeBob, Lassie and an orangutan at Universal Studios .\\nDad: \"Other than my wedding day, this is the happiest day of my life\"' \n",
        "]\n",
        "\n",
        "cnn_df = pd.DataFrame({\"articles\":cnn_daily_articles, \"highligths\":cnn_daily_article_highlights})\n",
        "\n",
        "cnn_df.head()                      "
      ]
    },
    {
      "cell_type": "code",
      "execution_count": 27,
      "metadata": {
        "gather": {
          "logged": 1674831294043
        },
        "jupyter": {
          "outputs_hidden": false,
          "source_hidden": false
        },
        "nteract": {
          "transient": {
            "deleting": false
          }
        }
      },
      "outputs": [
        {
          "name": "stdout",
          "output_type": "stream",
          "text": [
            "0.3307517429437963\n",
            "0.11581471492213073\n"
          ]
        }
      ],
      "source": [
        "article1_embedding    = client.embeddings.create(input=cnn_df.articles.iloc[0], model=model).data[0].embedding\n",
        "article2_embedding    = client.embeddings.create(input=cnn_df.articles.iloc[1], model=model).data[0].embedding\n",
        "article3_embedding    = client.embeddings.create(input=cnn_df.articles.iloc[2], model=model).data[0].embedding\n",
        "\n",
        "print(cosine_similarity(article1_embedding, article2_embedding))\n",
        "print(cosine_similarity(article1_embedding, article3_embedding))"
      ]
    },
    {
      "attachments": {},
      "cell_type": "markdown",
      "metadata": {
        "nteract": {
          "transient": {
            "deleting": false
          }
        }
      },
      "source": [
        "# References  \n",
        "- [Azure Documentation - Azure Open AI Models](https://learn.microsoft.com/azure/cognitive-services/openai/concepts/models?WT.mc_id=academic-105485-koreyst)  \n",
        "- [OpenAI Studio Examples](https://oai.azure.com/portal?WT.mc_id=academic-105485-koreyst)  "
      ]
    },
    {
      "attachments": {},
      "cell_type": "markdown",
      "metadata": {
        "nteract": {
          "transient": {
            "deleting": false
          }
        }
      },
      "source": [
        "# For More Help  \n",
        "[OpenAI Commercialization Team](AzureOpenAITeam@microsoft.com)"
      ]
    },
    {
      "attachments": {},
      "cell_type": "markdown",
      "metadata": {
        "nteract": {
          "transient": {
            "deleting": false
          }
        }
      },
      "source": [
        "# Contributors\n",
        "* Louis Li  \n"
      ]
    }
  ],
  "metadata": {
    "kernel_info": {
      "name": "python310-sdkv2"
    },
    "kernelspec": {
      "display_name": "base",
      "language": "python",
      "name": "python3"
    },
    "language_info": {
      "codemirror_mode": {
        "name": "ipython",
        "version": 3
      },
      "file_extension": ".py",
      "mimetype": "text/x-python",
      "name": "python",
      "nbconvert_exporter": "python",
      "pygments_lexer": "ipython3",
      "version": "3.10.13"
    },
    "microsoft": {
      "host": {
        "AzureML": {
          "notebookHasBeenCompleted": true
        }
      }
    },
    "nteract": {
      "version": "nteract-front-end@1.0.0"
    }
  },
  "nbformat": 4,
  "nbformat_minor": 2
}
