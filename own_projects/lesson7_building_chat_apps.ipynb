{
  "cells": [
    {
      "attachments": {},
      "cell_type": "markdown",
      "metadata": {
        "nteract": {
          "transient": {
            "deleting": false
          }
        }
      },
      "source": [
        "# Chapter 7: Building Chat Applications\n",
        "## Azure OpenAI API Quickstart"
      ]
    },
    {
      "attachments": {},
      "cell_type": "markdown",
      "metadata": {
        "nteract": {
          "transient": {
            "deleting": false
          }
        }
      },
      "source": [
        "## Overview\n",
        "This notebook is adapted from the [Azure OpenAI Samples Repository](https://github.com/Azure/azure-openai-samples?WT.mc_id=academic-105485-koreyst) that includes notebooks that also access the [OpenAI](notebook-openai.ipynb) service.\n",
        "\n",
        "The Python OpenAI API works with Azure OpenAI as well, with a few modifications. Learn more about the differences here: [How to switch between OpenAI and Azure OpenAI endpoints with Python](https://learn.microsoft.com/azure/ai-services/openai/how-to/switching-endpoints?WT.mc_id=academic-109527-jasmineg)\n",
        "\n",
        "For more quickstart examples please refer to the official [Azure Open AI Quickstart Documentation](https://learn.microsoft.com/azure/cognitive-services/openai/quickstart?pivots=programming-language-studio&WT.mc_id=academic-105485-koreyst)"
      ]
    },
    {
      "attachments": {},
      "cell_type": "markdown",
      "metadata": {
        "nteract": {
          "transient": {
            "deleting": false
          }
        }
      },
      "source": [
        "## Table of Contents  \n",
        "\n",
        "[Overview](#overview)  \n",
        "[Getting started with Azure OpenAI Service](#getting-started-with-azure-openai-service)  \n",
        "[Build your first prompt](#build-your-first-prompt)  \n",
        "\n",
        "[Use Cases](#use-cases)    \n",
        "[1. Summarize Text](#summarize-text)  \n",
        "[2. Classify Text](#classify-text)  \n",
        "[3. Generate New Product Names](#generate-new-product-names)  \n",
        "[4. Fine Tune a Classifier](#fine-tune-a-classifier)  \n",
        "[5. Embeddings](#embeddings)\n",
        "\n",
        "[References](#references)"
      ]
    },
    {
      "attachments": {},
      "cell_type": "markdown",
      "metadata": {
        "nteract": {
          "transient": {
            "deleting": false
          }
        }
      },
      "source": [
        "### Getting started with Azure OpenAI Service\n",
        "\n",
        "New customers will need to [apply for access](https://aka.ms/oai/access?WT.mc_id=academic-105485-koreyst) to Azure OpenAI Service.  \n",
        "After approval is complete, customers can log into the Azure portal, create an Azure OpenAI Service resource, and start experimenting with models via the studio  \n",
        "\n",
        "[Great resource for getting started quickly](https://techcommunity.microsoft.com/t5/educator-developer-blog/azure-openai-is-now-generally-available/ba-p/3719177?WT.mc_id=academic-105485-koreyst)\n"
      ]
    },
    {
      "attachments": {},
      "cell_type": "markdown",
      "metadata": {
        "nteract": {
          "transient": {
            "deleting": false
          }
        }
      },
      "source": [
        "### Build your first prompt  \n",
        "This short exercise will provide a basic introduction for submitting prompts to an OpenAI model for a simple task \"summarization\".  \n",
        "\n",
        "![](images/generative-AI-models-reduced.jpg)  \n",
        "\n",
        "\n",
        "**Steps**:  \n",
        "1. Install OpenAI library in your python environment  \n",
        "2. Load standard helper libraries and set your typical OpenAI security credentials for the OpenAI Service that you've created  \n",
        "3. Choose a model for your task  \n",
        "4. Create a simple prompt for the model  \n",
        "5. Submit your request to the model API!"
      ]
    },
    {
      "attachments": {},
      "cell_type": "markdown",
      "metadata": {
        "nteract": {
          "transient": {
            "deleting": false
          }
        }
      },
      "source": [
        "### 1. Install OpenAI"
      ]
    },
    {
      "cell_type": "markdown",
      "metadata": {},
      "source": [
        "  > [!NOTE] This step is not necessary if run this notebook on Codespaces or within a Devcontainer"
      ]
    },
    {
      "attachments": {},
      "cell_type": "markdown",
      "metadata": {
        "nteract": {
          "transient": {
            "deleting": false
          }
        }
      },
      "source": [
        "### 2. Import helper libraries and instantiate credentials"
      ]
    },
    {
      "attachments": {},
      "cell_type": "markdown",
      "metadata": {
        "nteract": {
          "transient": {
            "deleting": false
          }
        }
      },
      "source": [
        "### 3. Finding the right model  \n",
        "The GPT-3.5-turbo or GPT-4 models can understand and generate natural language. The service offers four model capabilities, each with different levels of power and speed suitable for different tasks. \n",
        "\n",
        "[Azure OpenAI models](https://learn.microsoft.com/azure/cognitive-services/openai/concepts/models?WT.mc_id=academic-105485-koreyst)  \n",
        "![](images/a-b-c-d-models-reduced.jpg)  \n"
      ]
    },
    {
      "attachments": {},
      "cell_type": "markdown",
      "metadata": {
        "nteract": {
          "transient": {
            "deleting": false
          }
        }
      },
      "source": [
        "## 4. Prompt Design  \n",
        "\n",
        "\"The magic of large language models is that by being trained to minimize this prediction error over vast quantities of text, the models end up learning concepts useful for these predictions. For example, they learn concepts like\"(1):\n",
        "\n",
        "* how to spell\n",
        "* how grammar works\n",
        "* how to paraphrase\n",
        "* how to answer questions\n",
        "* how to hold a conversation\n",
        "* how to write in many languages\n",
        "* how to code\n",
        "* etc.\n",
        "\n",
        "#### How to control a large language model  \n",
        "\"Of all the inputs to a large language model, by far the most influential is the text prompt(1).\n",
        "\n",
        "Large language models can be prompted to produce output in a few ways:\n",
        "\n",
        "- Instruction: Tell the model what you want\n",
        "- Completion: Induce the model to complete the beginning of what you want\n",
        "- Demonstration: Show the model what you want, with either:\n",
        "- A few examples in the prompt\n",
        "- Many hundreds or thousands of examples in a fine-tuning training dataset\n",
        "\n",
        "\n",
        "\n",
        "#### There are three basic guidelines to creating prompts:\n",
        "\n",
        "**Show and tell**. Make it clear what you want either through instructions, examples, or a combination of the two. If you want the model to rank a list of items in alphabetical order or to classify a paragraph by sentiment, show it that's what you want.\n",
        "\n",
        "**Provide quality data**. If you're trying to build a classifier or get the model to follow a pattern, make sure that there are enough examples. Be sure to proofread your examples — the model is usually smart enough to see through basic spelling mistakes and give you a response, but it also might assume this is intentional and it can affect the response.\n",
        "\n",
        "**Check your settings.** The temperature and top_p settings control how deterministic the model is in generating a response. If you're asking it for a response where there's only one right answer, then you'd want to set these lower. If you're looking for more diverse responses, then you might want to set them higher. The number one mistake people make with these settings is assuming that they're \"cleverness\" or \"creativity\" controls.\n",
        "\n",
        "\n",
        "Source: https://github.com/Azure/OpenAI/blob/main/How%20to/Completions.md"
      ]
    },
    {
      "attachments": {},
      "cell_type": "markdown",
      "metadata": {
        "nteract": {
          "transient": {
            "deleting": false
          }
        }
      },
      "source": [
        "![](images/prompt_design.jpg)\n",
        "image is creating your first text prompt!"
      ]
    },
    {
      "attachments": {},
      "cell_type": "markdown",
      "metadata": {
        "nteract": {
          "transient": {
            "deleting": false
          }
        }
      },
      "source": [
        "### 5. Submit!"
      ]
    },
    {
      "cell_type": "code",
      "execution_count": null,
      "metadata": {},
      "outputs": [],
      "source": []
    },
    {
      "cell_type": "code",
      "execution_count": 11,
      "metadata": {},
      "outputs": [],
      "source": [
        "import os\n",
        "from openai import OpenAI\n",
        "\n",
        "from dotenv import load_dotenv\n",
        "load_dotenv()\n",
        "\n",
        "api_key = os.environ['OPEN_AI_API_KEY']\n",
        "client = OpenAI(api_key=api_key)\n",
        "\n",
        "import numpy as np\n",
        "\n",
        "#Functions made for ease of use\n",
        "def add_to_context(message_log, conversation, role = \"user\"):\n",
        "    message_log.append({\"role\": role, \"content\": conversation})\n",
        "\n",
        "def submit_to_gpt(message_log):\n",
        "    response = client.chat.completions.create(\n",
        "        model=\"gpt-3.5-turbo\",\n",
        "        messages=message_log\n",
        "        )   \n",
        "    print(response.choices[0].message.content)\n",
        "    add_to_context(message_log=message_log, role = \"assistant\", conversation = response.choices[0].message.content)\n",
        "\n",
        "def converse(conversation, role=\"user\", system_start = None, message_log = None):\n",
        "    if not message_log:\n",
        "        message_log = []\n",
        "        if system_start:\n",
        "            add_to_context(message_log, system_start, \"system\")\n",
        "    \n",
        "    add_to_context(message_log, conversation, role)\n",
        "    response = client.chat.completions.create(\n",
        "        model=\"gpt-3.5-turbo\",\n",
        "        messages=message_log\n",
        "    )\n",
        "    response_content = response.choices[0].message.content\n",
        "    add_to_context(message_log, response_content, \"assistant\")\n",
        "    print(response_content)\n",
        "    return message_log\n",
        "\n",
        "\n",
        "#set default model to 3.5\n",
        "model = \"gpt-3.5-turbo\""
      ]
    },
    {
      "attachments": {},
      "cell_type": "markdown",
      "metadata": {
        "nteract": {
          "transient": {
            "deleting": false
          }
        }
      },
      "source": [
        "## Summarize Text  \n",
        "#### Challenge  \n",
        "Summarize text by adding a 'tl;dr:' to the end of a text passage. Notice how the model understands how to perform a number of tasks with no additional instructions. You can experiment with more descriptive prompts than tl;dr to modify the model’s behavior and customize the summarization you receive(3).  \n",
        "\n",
        "Recent work has demonstrated substantial gains on many NLP tasks and benchmarks by pre-training on a large corpus of text followed by fine-tuning on a specific task. While typically task-agnostic in architecture, this method still requires task-specific fine-tuning datasets of thousands or tens of thousands of examples. By contrast, humans can generally perform a new language task from only a few examples or from simple instructions - something that current NLP systems still largely struggle to do. Here we show that scaling up language models greatly improves task-agnostic, few-shot performance, sometimes even reaching competitiveness with prior state-of-the-art fine-tuning approaches. \n",
        "\n",
        "\n",
        "\n",
        "Tl;dr"
      ]
    },
    {
      "attachments": {},
      "cell_type": "markdown",
      "metadata": {
        "nteract": {
          "transient": {
            "deleting": false
          }
        }
      },
      "source": [
        "# Exercises for several use cases  \n",
        "1. Summarize Text  \n",
        "2. Classify Text  \n",
        "3. Generate New Product Names\n",
        "4. Embeddings\n",
        "5. Fine tune a classifier"
      ]
    },
    {
      "cell_type": "code",
      "execution_count": 4,
      "metadata": {
        "gather": {
          "logged": 1674495198534
        },
        "jupyter": {
          "outputs_hidden": false,
          "source_hidden": false
        },
        "nteract": {
          "transient": {
            "deleting": false
          }
        }
      },
      "outputs": [],
      "source": [
        "prompt = \"Recent work has demonstrated substantial gains on many NLP tasks and benchmarks by pre-training on a large corpus of text followed by fine-tuning on a specific task. While typically task-agnostic in architecture, this method still requires task-specific fine-tuning datasets of thousands or tens of thousands of examples. By contrast, humans can generally perform a new language task from only a few examples or from simple instructions - something that current NLP systems still largely struggle to do. Here we show that scaling up language models greatly improves task-agnostic, few-shot performance, sometimes even reaching competitiveness with prior state-of-the-art fine-tuning approaches.\\n\\ntl;dr in less than 100 words\"\n"
      ]
    },
    {
      "cell_type": "code",
      "execution_count": 5,
      "metadata": {},
      "outputs": [
        {
          "name": "stdout",
          "output_type": "stream",
          "text": [
            "Recent work has shown significant improvement in NLP tasks by pre-training on a large text corpus and fine-tuning on specific tasks. While existing systems require thousands of task-specific examples, humans can perform new language tasks with only a few examples. Scaling up language models enhances few-shot performance, sometimes matching fine-tuning methods.\n"
          ]
        }
      ],
      "source": [
        "tsum = converse(prompt, system_start = \"You are a helpful assistant, expert at summarizing text\")"
      ]
    },
    {
      "cell_type": "code",
      "execution_count": 6,
      "metadata": {},
      "outputs": [
        {
          "data": {
            "text/plain": [
              "[{'role': 'system',\n",
              "  'content': 'You are a helpful assistant, expert at summarizing text'},\n",
              " {'role': 'user',\n",
              "  'content': 'Recent work has demonstrated substantial gains on many NLP tasks and benchmarks by pre-training on a large corpus of text followed by fine-tuning on a specific task. While typically task-agnostic in architecture, this method still requires task-specific fine-tuning datasets of thousands or tens of thousands of examples. By contrast, humans can generally perform a new language task from only a few examples or from simple instructions - something that current NLP systems still largely struggle to do. Here we show that scaling up language models greatly improves task-agnostic, few-shot performance, sometimes even reaching competitiveness with prior state-of-the-art fine-tuning approaches.\\n\\ntl;dr in less than 100 words'},\n",
              " {'role': 'assistant',\n",
              "  'content': 'Recent work has shown significant improvement in NLP tasks by pre-training on a large text corpus and fine-tuning on specific tasks. While existing systems require thousands of task-specific examples, humans can perform new language tasks with only a few examples. Scaling up language models enhances few-shot performance, sometimes matching fine-tuning methods.'}]"
            ]
          },
          "execution_count": 6,
          "metadata": {},
          "output_type": "execute_result"
        }
      ],
      "source": [
        "tsum"
      ]
    },
    {
      "cell_type": "code",
      "execution_count": 7,
      "metadata": {
        "gather": {
          "logged": 1674495201868
        },
        "jupyter": {
          "outputs_hidden": false,
          "source_hidden": false
        },
        "nteract": {
          "transient": {
            "deleting": false
          }
        }
      },
      "outputs": [
        {
          "ename": "NameError",
          "evalue": "name 'model' is not defined",
          "output_type": "error",
          "traceback": [
            "\u001b[0;31m---------------------------------------------------------------------------\u001b[0m",
            "\u001b[0;31mNameError\u001b[0m                                 Traceback (most recent call last)",
            "Cell \u001b[0;32mIn[7], line 4\u001b[0m\n\u001b[1;32m      1\u001b[0m \u001b[38;5;66;03m#Setting a few additional, typical parameters during API Call\u001b[39;00m\n\u001b[1;32m      3\u001b[0m response \u001b[38;5;241m=\u001b[39m client\u001b[38;5;241m.\u001b[39mchat\u001b[38;5;241m.\u001b[39mcompletions\u001b[38;5;241m.\u001b[39mcreate(\n\u001b[0;32m----> 4\u001b[0m   model\u001b[38;5;241m=\u001b[39m\u001b[43mmodel\u001b[49m,\n\u001b[1;32m      5\u001b[0m   messages \u001b[38;5;241m=\u001b[39m [{\u001b[38;5;124m\"\u001b[39m\u001b[38;5;124mrole\u001b[39m\u001b[38;5;124m\"\u001b[39m:\u001b[38;5;124m\"\u001b[39m\u001b[38;5;124msystem\u001b[39m\u001b[38;5;124m\"\u001b[39m, \u001b[38;5;124m\"\u001b[39m\u001b[38;5;124mcontent\u001b[39m\u001b[38;5;124m\"\u001b[39m:\u001b[38;5;124m\"\u001b[39m\u001b[38;5;124mYou are a helpful assistant.\u001b[39m\u001b[38;5;124m\"\u001b[39m},\n\u001b[1;32m      6\u001b[0m                {\u001b[38;5;124m\"\u001b[39m\u001b[38;5;124mrole\u001b[39m\u001b[38;5;124m\"\u001b[39m:\u001b[38;5;124m\"\u001b[39m\u001b[38;5;124muser\u001b[39m\u001b[38;5;124m\"\u001b[39m,\u001b[38;5;124m\"\u001b[39m\u001b[38;5;124mcontent\u001b[39m\u001b[38;5;124m\"\u001b[39m:prompt},])\n\u001b[1;32m      8\u001b[0m response\u001b[38;5;241m.\u001b[39mchoices[\u001b[38;5;241m0\u001b[39m]\u001b[38;5;241m.\u001b[39mmessage\u001b[38;5;241m.\u001b[39mcontent\n",
            "\u001b[0;31mNameError\u001b[0m: name 'model' is not defined"
          ]
        }
      ],
      "source": [
        "#Setting a few additional, typical parameters during API Call\n",
        "\n",
        "#response = client.chat.completions.create(\n",
        " # model=model,\n",
        " # messages = [{\"role\":\"system\", \"content\":\"You are a helpful assistant.\"},\n",
        " #              {\"role\":\"user\",\"content\":prompt},])\n",
        "\n",
        "#response.choices[0].message.content"
      ]
    },
    {
      "attachments": {},
      "cell_type": "markdown",
      "metadata": {
        "nteract": {
          "transient": {
            "deleting": false
          }
        }
      },
      "source": [
        "## Classify Text  \n",
        "#### Challenge  \n",
        "Classify items into categories provided at inference time. In the following example, we provide both the categories and the text to classify in the prompt(*playground_reference). \n",
        "\n",
        "Customer Inquiry: Hello, one of the keys on my laptop keyboard broke recently and I'll need a replacement:\n",
        "\n",
        "Classified category:\n"
      ]
    },
    {
      "cell_type": "code",
      "execution_count": 8,
      "metadata": {
        "gather": {
          "logged": 1674499424645
        },
        "jupyter": {
          "outputs_hidden": false,
          "source_hidden": false
        },
        "nteract": {
          "transient": {
            "deleting": false
          }
        }
      },
      "outputs": [
        {
          "name": "stdout",
          "output_type": "stream",
          "text": [
            "Classify the following inquiry into one of the following: categories: [Pricing, Hardware Support, Software Support]\n",
            "\n",
            "inquiry: Hello, one of the keys on my laptop keyboard broke recently and I'll need a replacement:\n",
            "\n",
            "Classified category:\n"
          ]
        }
      ],
      "source": [
        "prompt = \"Classify the following inquiry into one of the following: categories: [Pricing, Hardware Support, Software Support]\\n\\ninquiry: Hello, one of the keys on my laptop keyboard broke recently and I'll need a replacement:\\n\\nClassified category:\"\n",
        "print(prompt)"
      ]
    },
    {
      "cell_type": "code",
      "execution_count": 9,
      "metadata": {},
      "outputs": [
        {
          "name": "stdout",
          "output_type": "stream",
          "text": [
            "Hardware Support\n"
          ]
        }
      ],
      "source": [
        "classifying = converse(prompt, system_start = \"You are a helpful assistant, expert at categorizing\")"
      ]
    },
    {
      "cell_type": "code",
      "execution_count": 13,
      "metadata": {
        "gather": {
          "logged": 1674499378518
        },
        "jupyter": {
          "outputs_hidden": false,
          "source_hidden": false
        },
        "nteract": {
          "transient": {
            "deleting": false
          }
        }
      },
      "outputs": [
        {
          "data": {
            "text/plain": [
              "'Category: Hardware Support'"
            ]
          },
          "execution_count": 13,
          "metadata": {},
          "output_type": "execute_result"
        }
      ],
      "source": [
        "#Setting a few additional, typical parameters during API Call\n",
        "\n",
        "response = client.chat.completions.create(\n",
        "  model=model,\n",
        "  messages = [{\"role\":\"system\", \"content\":\"You are a helpful assistant, expert at categorizing\"},\n",
        "               {\"role\":\"user\",\"content\":prompt},])\n",
        "\n",
        "response.choices[0].message.content"
      ]
    },
    {
      "cell_type": "code",
      "execution_count": 18,
      "metadata": {},
      "outputs": [
        {
          "data": {
            "text/plain": [
              "'Category: Hardware Support'"
            ]
          },
          "execution_count": 18,
          "metadata": {},
          "output_type": "execute_result"
        }
      ],
      "source": [
        "response.choices[0].message.content"
      ]
    },
    {
      "attachments": {},
      "cell_type": "markdown",
      "metadata": {
        "nteract": {
          "transient": {
            "deleting": false
          }
        }
      },
      "source": [
        "## Generate New Product Names\n",
        "#### Challenge\n",
        "Create product names from examples words. Here we include in the prompt information about the product we are going to generate names for. We also provide a similar example to show the pattern we wish to receive. We have also set the temperature value high to increase randomness and more innovative responses.\n",
        "\n",
        "Product description: A home milkshake maker\n",
        "Seed words: fast, healthy, compact.\n",
        "Product names: HomeShaker, Fit Shaker, QuickShake, Shake Maker\n",
        "\n",
        "Product description: A pair of shoes that can fit any foot size.\n",
        "Seed words: adaptable, fit, omni-fit."
      ]
    },
    {
      "cell_type": "code",
      "execution_count": 19,
      "metadata": {
        "gather": {
          "logged": 1674257087279
        },
        "jupyter": {
          "outputs_hidden": false,
          "source_hidden": false
        },
        "nteract": {
          "transient": {
            "deleting": false
          }
        }
      },
      "outputs": [
        {
          "name": "stdout",
          "output_type": "stream",
          "text": [
            "Product description: A home milkshake maker\n",
            "Seed words: fast, healthy, compact.\n",
            "Product names: HomeShaker, Fit Shaker, QuickShake, Shake Maker\n",
            "\n",
            "Product description: A pair of shoes that can fit any foot size.\n",
            "Seed words: adaptable, fit, omni-fit.\n"
          ]
        }
      ],
      "source": [
        "prompt = \"Product description: A home milkshake maker\\nSeed words: fast, healthy, compact.\\nProduct names: HomeShaker, Fit Shaker, QuickShake, Shake Maker\\n\\nProduct description: A pair of shoes that can fit any foot size.\\nSeed words: adaptable, fit, omni-fit.\"\n",
        "\n",
        "print(prompt)"
      ]
    },
    {
      "cell_type": "code",
      "execution_count": 20,
      "metadata": {},
      "outputs": [
        {
          "name": "stdout",
          "output_type": "stream",
          "text": [
            "Product names: OmniStep, FitFlex, VersaFit, AdaptSole\n"
          ]
        }
      ],
      "source": [
        "brainstorm = converse(prompt, system_start = \"You are a helpful assistant, expert at market branding\")"
      ]
    },
    {
      "cell_type": "code",
      "execution_count": 21,
      "metadata": {
        "jupyter": {
          "outputs_hidden": false,
          "source_hidden": false
        },
        "nteract": {
          "transient": {
            "deleting": false
          }
        }
      },
      "outputs": [
        {
          "data": {
            "text/plain": [
              "'Product names: OmniStride, FitFlex, AdaptaStep, OneFit Shoe'"
            ]
          },
          "execution_count": 21,
          "metadata": {},
          "output_type": "execute_result"
        }
      ],
      "source": [
        "#Setting a few additional, typical parameters during API Call\n",
        "\n",
        "response = client.chat.completions.create(\n",
        "  model=model,\n",
        "  messages = [{\"role\":\"system\", \"content\":\"You are a helpful assistant, expert at market branding\"},\n",
        "               {\"role\":\"user\",\"content\":prompt}])\n",
        "\n",
        "response.choices[0].message.content"
      ]
    },
    {
      "attachments": {},
      "cell_type": "markdown",
      "metadata": {
        "nteract": {
          "transient": {
            "deleting": false
          }
        }
      },
      "source": [
        "## Embeddings\n",
        "This section will show how to retrieve embeddings, and find similarities between words, sentences, and documents. In order to run the following noteboooks you need to deploy a model that uses `text-embedding-ada-002` as base model and set his deployment name inside .env file, using the `AZURE_OPENAI_EMBEDDINGS_DEPLOYMENT` variable."
      ]
    },
    {
      "attachments": {},
      "cell_type": "markdown",
      "metadata": {
        "nteract": {
          "transient": {
            "deleting": false
          }
        }
      },
      "source": [
        "### Model Taxonomy - Choosing an embedding model\n",
        "\n",
        "**Model taxonomy**: {family} - {capability} - {input-type} - {identifier}  \n",
        "\n",
        "{family}     --> text-embedding  (embeddings family)  \n",
        "{capability} --> ada             (all the other embedding models will be retired in 2024)  \n",
        "{input-type} --> n/a             (only specified for search models)  \n",
        "{identifier} --> 002             (version 002)  \n",
        "\n",
        "model = 'text-embedding-ada-002'"
      ]
    },
    {
      "cell_type": "markdown",
      "metadata": {},
      "source": [
        "  > [!NOTE] The following step is not necessary if run this notebook on Codespaces or within a Devcontainer"
      ]
    },
    {
      "cell_type": "code",
      "execution_count": 22,
      "metadata": {},
      "outputs": [
        {
          "name": "stdout",
          "output_type": "stream",
          "text": [
            "Requirement already satisfied: matplotlib in /usr/local/python/3.10.13/lib/python3.10/site-packages (3.7.0)\n",
            "Requirement already satisfied: plotly in /home/codespace/.local/lib/python3.10/site-packages (5.22.0)\n",
            "Requirement already satisfied: scikit-learn in /home/codespace/.local/lib/python3.10/site-packages (1.5.1)\n",
            "Requirement already satisfied: pandas in /usr/local/python/3.10.13/lib/python3.10/site-packages (1.5.3)\n",
            "Requirement already satisfied: contourpy>=1.0.1 in /home/codespace/.local/lib/python3.10/site-packages (from matplotlib) (1.2.1)\n",
            "Requirement already satisfied: cycler>=0.10 in /home/codespace/.local/lib/python3.10/site-packages (from matplotlib) (0.12.1)\n",
            "Requirement already satisfied: fonttools>=4.22.0 in /home/codespace/.local/lib/python3.10/site-packages (from matplotlib) (4.53.1)\n",
            "Requirement already satisfied: kiwisolver>=1.0.1 in /home/codespace/.local/lib/python3.10/site-packages (from matplotlib) (1.4.5)\n",
            "Requirement already satisfied: numpy>=1.20 in /usr/local/python/3.10.13/lib/python3.10/site-packages (from matplotlib) (1.24.2)\n",
            "Requirement already satisfied: packaging>=20.0 in /home/codespace/.local/lib/python3.10/site-packages (from matplotlib) (24.1)\n",
            "Requirement already satisfied: pillow>=6.2.0 in /home/codespace/.local/lib/python3.10/site-packages (from matplotlib) (10.4.0)\n",
            "Requirement already satisfied: pyparsing>=2.3.1 in /home/codespace/.local/lib/python3.10/site-packages (from matplotlib) (3.1.2)\n",
            "Requirement already satisfied: python-dateutil>=2.7 in /home/codespace/.local/lib/python3.10/site-packages (from matplotlib) (2.9.0.post0)\n",
            "Requirement already satisfied: tenacity>=6.2.0 in /home/codespace/.local/lib/python3.10/site-packages (from plotly) (8.5.0)\n",
            "Requirement already satisfied: scipy>=1.6.0 in /home/codespace/.local/lib/python3.10/site-packages (from scikit-learn) (1.14.0)\n",
            "Requirement already satisfied: joblib>=1.2.0 in /home/codespace/.local/lib/python3.10/site-packages (from scikit-learn) (1.4.2)\n",
            "Requirement already satisfied: threadpoolctl>=3.1.0 in /home/codespace/.local/lib/python3.10/site-packages (from scikit-learn) (3.5.0)\n",
            "Requirement already satisfied: pytz>=2020.1 in /home/codespace/.local/lib/python3.10/site-packages (from pandas) (2024.1)\n",
            "Requirement already satisfied: six>=1.5 in /home/codespace/.local/lib/python3.10/site-packages (from python-dateutil>=2.7->matplotlib) (1.16.0)\n",
            "Note: you may need to restart the kernel to use updated packages.\n"
          ]
        }
      ],
      "source": [
        "# Dependencies for embeddings_utils\n",
        "%pip install matplotlib plotly scikit-learn pandas"
      ]
    },
    {
      "cell_type": "code",
      "execution_count": 23,
      "metadata": {
        "gather": {
          "logged": 1674829364153
        },
        "jupyter": {
          "outputs_hidden": false,
          "source_hidden": false
        },
        "nteract": {
          "transient": {
            "deleting": false
          }
        }
      },
      "outputs": [],
      "source": [
        "def cosine_similarity(a, b):\n",
        "    return np.dot(a, b) / (np.linalg.norm(a) * np.linalg.norm(b))"
      ]
    },
    {
      "cell_type": "code",
      "execution_count": 24,
      "metadata": {
        "gather": {
          "logged": 1674829424097
        },
        "jupyter": {
          "outputs_hidden": false,
          "source_hidden": false
        },
        "nteract": {
          "transient": {
            "deleting": false
          }
        }
      },
      "outputs": [
        {
          "data": {
            "text/plain": [
              "[-0.035939473658800125,\n",
              " 0.024851761758327484,\n",
              " -0.001566741499118507,\n",
              " -0.012666918337345123,\n",
              " -0.007443061098456383,\n",
              " -0.023172814399003983,\n",
              " -0.0033703644294291735,\n",
              " 0.007908511906862259,\n",
              " -0.011029528453946114,\n",
              " 0.00562281534075737,\n",
              " -0.0034742597490549088,\n",
              " 0.02298995852470398,\n",
              " -0.012932890094816685,\n",
              " -0.009375514462590218,\n",
              " 0.08331574499607086,\n",
              " 0.03414415940642357,\n",
              " -0.00631683599203825,\n",
              " -0.016490265727043152,\n",
              " -0.03979606553912163,\n",
              " 0.04524849355220795,\n",
              " 0.020396729931235313,\n",
              " 0.010364597663283348,\n",
              " 0.03071977011859417,\n",
              " 0.006042552180588245,\n",
              " -0.010555765591561794,\n",
              " 0.003997892141342163,\n",
              " -0.03962983563542366,\n",
              " 0.030703147873282433,\n",
              " 0.07407321035861969,\n",
              " -0.03101898916065693,\n",
              " -0.020995168015360832,\n",
              " -0.0485398955643177,\n",
              " 0.04913833364844322,\n",
              " -0.06855428963899612,\n",
              " 0.031634047627449036,\n",
              " 0.03404442220926285,\n",
              " 0.055022966116666794,\n",
              " 0.002393748378381133,\n",
              " 0.028475631028413773,\n",
              " -0.04913833364844322,\n",
              " -0.02388761378824711,\n",
              " 0.01319886278361082,\n",
              " 0.033562347292900085,\n",
              " 0.030753016471862793,\n",
              " -0.006050863768905401,\n",
              " 0.008386431261897087,\n",
              " -0.056851524859666824,\n",
              " 0.0052612596191465855,\n",
              " 0.03992905095219612,\n",
              " 0.04637887328863144,\n",
              " 0.015991568565368652,\n",
              " 0.011686146259307861,\n",
              " -0.006104889325797558,\n",
              " 0.08371470123529434,\n",
              " 0.017753632739186287,\n",
              " 0.001676870626397431,\n",
              " -0.0344766266644001,\n",
              " 0.0708150565624237,\n",
              " 0.005257103592157364,\n",
              " 0.0107053741812706,\n",
              " 0.04242254048585892,\n",
              " -0.00659943139180541,\n",
              " 0.017703764140605927,\n",
              " 0.01828557811677456,\n",
              " -0.008868505246937275,\n",
              " 0.0023355670273303986,\n",
              " -0.03750205785036087,\n",
              " 0.028558747842907906,\n",
              " -0.028326021507382393,\n",
              " -0.024486050009727478,\n",
              " 0.031384699046611786,\n",
              " 0.004492434207350016,\n",
              " -0.026680320501327515,\n",
              " 0.03387818858027458,\n",
              " 0.03962983563542366,\n",
              " -0.004450875800102949,\n",
              " -0.022474637255072594,\n",
              " 0.024801893159747124,\n",
              " 0.002354268217459321,\n",
              " -0.01199367642402649,\n",
              " 0.045547712594270706,\n",
              " 0.029439780861139297,\n",
              " -0.05944475159049034,\n",
              " -0.02892445959150791,\n",
              " -0.013431588187813759,\n",
              " 0.009749537333846092,\n",
              " -0.08976556360721588,\n",
              " 0.01580871269106865,\n",
              " -0.0061880056746304035,\n",
              " -0.027411743998527527,\n",
              " -0.023122943937778473,\n",
              " 0.0014212881214916706,\n",
              " 0.006711638066917658,\n",
              " 0.0015947932843118906,\n",
              " 0.005909566301852465,\n",
              " -0.005585412960499525,\n",
              " -0.05232999846339226,\n",
              " 0.0060051498003304005,\n",
              " -0.015966633334755898,\n",
              " -0.018917260691523552,\n",
              " 0.027627846226096153,\n",
              " -0.018468433991074562,\n",
              " 0.004762561991810799,\n",
              " -0.009109542705118656,\n",
              " 0.004716848023235798,\n",
              " 0.04744276404380798,\n",
              " -0.022358274087309837,\n",
              " -0.045314986258745193,\n",
              " -0.05811489000916481,\n",
              " 0.04295448586344719,\n",
              " -0.05758294835686684,\n",
              " 0.003270624903962016,\n",
              " 0.0102066770195961,\n",
              " 0.04883911460638046,\n",
              " 0.030553538352251053,\n",
              " -0.02239152044057846,\n",
              " 0.06346757709980011,\n",
              " -0.04465005546808243,\n",
              " 0.017454415559768677,\n",
              " -0.02669694274663925,\n",
              " 0.01828557811677456,\n",
              " 0.01971517689526081,\n",
              " 0.014603527262806892,\n",
              " -0.05668529123067856,\n",
              " -0.004870613105595112,\n",
              " -0.02621486969292164,\n",
              " -0.05073416605591774,\n",
              " -0.03160080313682556,\n",
              " -0.02174321375787258,\n",
              " -0.0004719445132650435,\n",
              " 0.04508225992321968,\n",
              " -0.0065246266312897205,\n",
              " -0.032980531454086304,\n",
              " -0.028575371950864792,\n",
              " -0.07932616025209427,\n",
              " 0.014129764400422573,\n",
              " -0.0067282612435519695,\n",
              " 0.05621983855962753,\n",
              " -0.07327529788017273,\n",
              " 0.03580648452043533,\n",
              " 0.0403280109167099,\n",
              " -0.011586407199501991,\n",
              " 0.013614444062113762,\n",
              " 0.007276828866451979,\n",
              " -0.021527111530303955,\n",
              " -0.030786262825131416,\n",
              " -0.02794368751347065,\n",
              " 0.0014773915754631162,\n",
              " -0.009525123983621597,\n",
              " 0.02859199419617653,\n",
              " -0.02144399657845497,\n",
              " 0.046644847840070724,\n",
              " -0.03284754604101181,\n",
              " -0.0037443875335156918,\n",
              " -0.0019594659097492695,\n",
              " -0.00851941667497158,\n",
              " 0.029805492609739304,\n",
              " 0.021610228344798088,\n",
              " -0.03494207561016083,\n",
              " -0.000760513823479414,\n",
              " -0.009250840172171593,\n",
              " -0.03226573392748833,\n",
              " 0.0011501213302835822,\n",
              " -0.005282038357108831,\n",
              " -0.02699616178870201,\n",
              " 0.013489769771695137,\n",
              " 0.015118848532438278,\n",
              " -0.01733805239200592,\n",
              " -0.04006204009056091,\n",
              " 0.004091397859156132,\n",
              " 0.0010301221627742052,\n",
              " -0.03369533270597458,\n",
              " -0.048041198402643204,\n",
              " 0.011511602438986301,\n",
              " -0.05369310453534126,\n",
              " 0.02669694274663925,\n",
              " 0.01483625266700983,\n",
              " -0.008560975082218647,\n",
              " -0.05123286321759224,\n",
              " 0.058680079877376556,\n",
              " 0.024336442351341248,\n",
              " 0.06735742092132568,\n",
              " -0.0033973772078752518,\n",
              " 0.01996452547609806,\n",
              " -0.012924578972160816,\n",
              " -0.011129267513751984,\n",
              " 0.03121846728026867,\n",
              " 0.004363603889942169,\n",
              " -0.02061283215880394,\n",
              " -0.02338891662657261,\n",
              " -0.027511483058333397,\n",
              " 0.01538482028990984,\n",
              " 0.05299492925405502,\n",
              " -0.028126543387770653,\n",
              " -0.008195263333618641,\n",
              " -0.03517480194568634,\n",
              " 0.016240917146205902,\n",
              " -0.008984868414700031,\n",
              " -0.00018649210687726736,\n",
              " 0.039463602006435394,\n",
              " 0.05329414829611778,\n",
              " 0.046046409755945206,\n",
              " -0.006823845207691193,\n",
              " 0.004737626761198044,\n",
              " -0.07068207114934921,\n",
              " -0.022158795967698097,\n",
              " -0.07221140712499619,\n",
              " 0.00790020078420639,\n",
              " -0.01743779145181179,\n",
              " -0.07134699821472168,\n",
              " 0.05023546889424324,\n",
              " -0.04066047444939613,\n",
              " -0.018568173050880432,\n",
              " -0.04225630685687065,\n",
              " -0.03567349910736084,\n",
              " -0.01723831333220005,\n",
              " 0.013148992322385311,\n",
              " 0.02031361497938633,\n",
              " -0.0021121921017766,\n",
              " 0.010372909717261791,\n",
              " -0.016606628894805908,\n",
              " 0.0383332185447216,\n",
              " 0.08790376037359238,\n",
              " 0.01538482028990984,\n",
              " 0.0004766198107972741,\n",
              " 0.03437688574194908,\n",
              " 0.037335824221372604,\n",
              " -0.01654013618826866,\n",
              " -0.011885625310242176,\n",
              " -0.05618659406900406,\n",
              " 0.07247737795114517,\n",
              " 0.004425941035151482,\n",
              " 0.003000497119501233,\n",
              " -0.003237378317862749,\n",
              " 0.025649677962064743,\n",
              " -0.0003784387372434139,\n",
              " -0.019299596548080444,\n",
              " -0.0017568699549883604,\n",
              " -0.021626850590109825,\n",
              " -0.010647193528711796,\n",
              " -0.046445365995168686,\n",
              " -0.025034617632627487,\n",
              " 0.046146150678396225,\n",
              " 0.011844067834317684,\n",
              " -0.010838360525667667,\n",
              " 0.016066374257206917,\n",
              " 2.870108437491581e-05,\n",
              " -0.03903139755129814,\n",
              " -0.016980651766061783,\n",
              " 0.03810049593448639,\n",
              " 0.017919866368174553,\n",
              " 0.003646726021543145,\n",
              " -0.04395188018679619,\n",
              " -0.04488278180360794,\n",
              " 0.03813374042510986,\n",
              " 0.005124117713421583,\n",
              " -0.012924578972160816,\n",
              " 0.05156533047556877,\n",
              " 0.06300212442874908,\n",
              " -0.003199976170435548,\n",
              " -0.02521747350692749,\n",
              " -0.036338429898023605,\n",
              " -0.04242254048585892,\n",
              " -0.028259528800845146,\n",
              " -0.030154580250382423,\n",
              " 0.01644039712846279,\n",
              " 0.04797470569610596,\n",
              " 0.0063043683767318726,\n",
              " 0.04059398174285889,\n",
              " -0.03417740762233734,\n",
              " -0.007226958870887756,\n",
              " 0.025433575734496117,\n",
              " 0.026480840519070625,\n",
              " 0.02259100042283535,\n",
              " -0.05312791466712952,\n",
              " 0.0533938854932785,\n",
              " 0.018102722242474556,\n",
              " 0.012891332618892193,\n",
              " -0.015127159655094147,\n",
              " 0.07939265668392181,\n",
              " -0.04212332144379616,\n",
              " 0.007663319353014231,\n",
              " 0.01548455934971571,\n",
              " -0.01728818193078041,\n",
              " -0.07726487517356873,\n",
              " -0.01828557811677456,\n",
              " -0.0011470044264569879,\n",
              " -0.0023771252017468214,\n",
              " 0.03324650600552559,\n",
              " 0.008901751600205898,\n",
              " 0.03600596636533737,\n",
              " -0.002555825049057603,\n",
              " 0.038865163922309875,\n",
              " -0.0059843710623681545,\n",
              " -0.03454311937093735,\n",
              " 0.034310393035411835,\n",
              " 0.04338669031858444,\n",
              " -0.02566630207002163,\n",
              " 0.02456916682422161,\n",
              " -0.010023821145296097,\n",
              " 0.024702154099941254,\n",
              " 0.0033828318119049072,\n",
              " -0.0028716668020933867,\n",
              " -0.032132748514413834,\n",
              " 0.005780735984444618,\n",
              " 0.04631238058209419,\n",
              " 0.011012904345989227,\n",
              " -0.02461903728544712,\n",
              " 0.008968244306743145,\n",
              " -0.053626611828804016,\n",
              " -0.0218429546803236,\n",
              " 0.013581197708845139,\n",
              " -0.019083494320511818,\n",
              " 0.013656001538038254,\n",
              " -0.04538147896528244,\n",
              " -0.06576158851385117,\n",
              " 0.03949684649705887,\n",
              " 0.08444612473249435,\n",
              " -0.014595216140151024,\n",
              " -0.07706540077924728,\n",
              " 0.06639327108860016,\n",
              " -0.024303195998072624,\n",
              " 0.05286194384098053,\n",
              " -0.017604025080800056,\n",
              " -0.00442178500816226,\n",
              " -0.01843518763780594,\n",
              " -0.0015490793157368898,\n",
              " 0.007887733168900013,\n",
              " 0.025283966213464737,\n",
              " -5.649308513966389e-05,\n",
              " -0.022458015009760857,\n",
              " -0.03086937963962555,\n",
              " 0.009284086525440216,\n",
              " 0.005922033917158842,\n",
              " 0.06692521274089813,\n",
              " -0.01124563068151474,\n",
              " -0.00851941667497158,\n",
              " 0.05648581311106682,\n",
              " -0.025150980800390244,\n",
              " 0.0032893260940909386,\n",
              " -3.0162113034748472e-05,\n",
              " -0.03537428006529808,\n",
              " -0.023505279794335365,\n",
              " -0.010738621465861797,\n",
              " 0.030653277412056923,\n",
              " -0.03504181653261185,\n",
              " -0.006981765851378441,\n",
              " 0.04135865345597267,\n",
              " 0.019183233380317688,\n",
              " 0.029539519920945168,\n",
              " -0.008145393803715706,\n",
              " 0.025250719860196114,\n",
              " 0.03437688574194908,\n",
              " -0.025184227153658867,\n",
              " 0.029489649459719658,\n",
              " -0.04893885552883148,\n",
              " 0.0045506153255701065,\n",
              " 0.018252331763505936,\n",
              " 0.011727704666554928,\n",
              " 0.022325027734041214,\n",
              " 0.001984400674700737,\n",
              " -0.005897098686546087,\n",
              " 0.008876816369593143,\n",
              " 0.024153586477041245,\n",
              " -0.001312198000960052,\n",
              " 0.013306913897395134,\n",
              " -0.040361255407333374,\n",
              " 0.028109919279813766,\n",
              " 0.030886003747582436,\n",
              " -0.0032186773605644703,\n",
              " -0.007962537929415703,\n",
              " 0.02129438705742359,\n",
              " 0.008777077309787273,\n",
              " 0.010979657992720604,\n",
              " -0.03377844765782356,\n",
              " 0.003877373645082116,\n",
              " -0.01303263008594513,\n",
              " 0.03131820634007454,\n",
              " 0.012874709442257881,\n",
              " 0.02021387591958046,\n",
              " 0.004662822466343641,\n",
              " 0.014146387577056885,\n",
              " -0.01369755994528532,\n",
              " -0.00963317509740591,\n",
              " 0.013331848196685314,\n",
              " -0.0015989490784704685,\n",
              " 0.0074015031568706036,\n",
              " 0.013830546289682388,\n",
              " 0.029556142166256905,\n",
              " -0.035341035574674606,\n",
              " 0.038366466760635376,\n",
              " 0.0007532411254942417,\n",
              " -0.015143782831728458,\n",
              " 0.029107315465807915,\n",
              " 0.021709967404603958,\n",
              " 0.027162395417690277,\n",
              " 0.03231560438871384,\n",
              " 0.035540513694286346,\n",
              " 0.007613449823111296,\n",
              " 0.019532321020960808,\n",
              " 0.0558873750269413,\n",
              " 0.0011085631558671594,\n",
              " -0.04923807457089424,\n",
              " -0.002888290211558342,\n",
              " -0.013963531702756882,\n",
              " -0.012417569756507874,\n",
              " -0.035108309239149094,\n",
              " 0.008120458573102951,\n",
              " 0.007031635846942663,\n",
              " -0.024452803656458855,\n",
              " 0.06616054475307465,\n",
              " -0.014138076454401016,\n",
              " 0.050567932426929474,\n",
              " 0.02239152044057846,\n",
              " -0.004070619121193886,\n",
              " -0.012068481184542179,\n",
              " 0.024452803656458855,\n",
              " 0.036837127059698105,\n",
              " -0.0062544988468289375,\n",
              " -0.01738792285323143,\n",
              " -0.05621983855962753,\n",
              " -0.0020633612293750048,\n",
              " -0.02066270262002945,\n",
              " -0.008544351905584335,\n",
              " -0.014512099325656891,\n",
              " 0.06749040633440018,\n",
              " 0.023937484249472618,\n",
              " -0.02611512877047062,\n",
              " 0.008058121427893639,\n",
              " -0.03342936187982559,\n",
              " -0.016166113317012787,\n",
              " -0.025682924315333366,\n",
              " -0.029539519920945168,\n",
              " 0.026364479213953018,\n",
              " 0.007135530933737755,\n",
              " -0.02011413499712944,\n",
              " -0.02739511989057064,\n",
              " 0.05981046333909035,\n",
              " 0.028525501489639282,\n",
              " -0.036936867982149124,\n",
              " -0.018418563529849052,\n",
              " -0.005693464074283838,\n",
              " -0.01996452547609806,\n",
              " -0.03291403874754906,\n",
              " 0.016141178086400032,\n",
              " -0.0017080391990020871,\n",
              " 0.024934878572821617,\n",
              " 0.02834264561533928,\n",
              " 0.008506949059665203,\n",
              " -0.04125891253352165,\n",
              " 0.0024914098903536797,\n",
              " 0.021377502009272575,\n",
              " -0.034110914915800095,\n",
              " -0.03943035379052162,\n",
              " -0.02977224439382553,\n",
              " 0.02551669254899025,\n",
              " 0.0018784275744110346,\n",
              " 0.019349465146660805,\n",
              " 0.006803066004067659,\n",
              " -0.014054959639906883,\n",
              " 0.011860691010951996,\n",
              " -0.03457636386156082,\n",
              " -0.014354178681969643,\n",
              " 0.003808802692219615,\n",
              " -0.02111153118312359,\n",
              " -0.06915272772312164,\n",
              " 0.01377236470580101,\n",
              " 0.02744499035179615,\n",
              " 0.043020978569984436,\n",
              " -0.0218429546803236,\n",
              " 0.020745819434523582,\n",
              " 0.0034493249841034412,\n",
              " -0.02289021946489811,\n",
              " -0.01068043988198042,\n",
              " 0.001164666609838605,\n",
              " 0.02146061882376671,\n",
              " -0.003765166737139225,\n",
              " -0.007039947435259819,\n",
              " -0.0055313874036073685,\n",
              " -0.055554911494255066,\n",
              " 0.02511773444712162,\n",
              " -0.01580871269106865,\n",
              " -0.05050143972039223,\n",
              " 0.017620647326111794,\n",
              " -0.0042139943689107895,\n",
              " 0.10884905606508255,\n",
              " 0.02611512877047062,\n",
              " -0.02932341769337654,\n",
              " 0.0030981586314737797,\n",
              " 0.008610844612121582,\n",
              " 0.0031023144256323576,\n",
              " 0.005976059474050999,\n",
              " 0.042189814150333405,\n",
              " -0.022325027734041214,\n",
              " -0.030753016471862793,\n",
              " -0.0010405117645859718,\n",
              " -0.03171716630458832,\n",
              " -0.03214937075972557,\n",
              " 0.01369755994528532,\n",
              " -0.07128050923347473,\n",
              " 0.03806724771857262,\n",
              " 0.00562281534075737,\n",
              " -0.028026804327964783,\n",
              " 0.025549938902258873,\n",
              " 0.06755689531564713,\n",
              " -0.013730806298553944,\n",
              " 0.01159471832215786,\n",
              " 0.038964904844760895,\n",
              " -0.0022753076627850533,\n",
              " 0.016066374257206917,\n",
              " 0.0022337494883686304,\n",
              " -0.01788662001490593,\n",
              " 0.0067947544157505035,\n",
              " -0.003536596894264221,\n",
              " -0.03517480194568634,\n",
              " 0.016964029520750046,\n",
              " -0.05113312602043152,\n",
              " 0.041790857911109924,\n",
              " -0.03263144567608833,\n",
              " -0.019050247967243195,\n",
              " -0.029306793585419655,\n",
              " 0.040494244545698166,\n",
              " 0.01575053110718727,\n",
              " -0.033662084490060806,\n",
              " -0.009500188753008842,\n",
              " -0.03690361976623535,\n",
              " -0.01813596859574318,\n",
              " -0.022707363590598106,\n",
              " -0.008182795718312263,\n",
              " -0.012583802454173565,\n",
              " 0.018518302589654922,\n",
              " -0.038565944880247116,\n",
              " 0.04850665107369423,\n",
              " 0.028808096423745155,\n",
              " -0.012600425630807877,\n",
              " -0.00232933321967721,\n",
              " -0.012592113576829433,\n",
              " 0.007185400929301977,\n",
              " 0.01156978402286768,\n",
              " -0.0005802554078400135,\n",
              " 0.017371298745274544,\n",
              " 0.03427714481949806,\n",
              " -0.0022503728978335857,\n",
              " 0.0045007457956671715,\n",
              " -0.026281362399458885,\n",
              " 0.007871109992265701,\n",
              " -0.01320717390626669,\n",
              " -0.011012904345989227,\n",
              " 0.0008841492235660553,\n",
              " 0.01060563512146473,\n",
              " 0.022208664566278458,\n",
              " -0.04474979639053345,\n",
              " -0.0017194676911458373,\n",
              " 0.011112644337117672,\n",
              " -0.016864290460944176,\n",
              " -0.013040941208600998,\n",
              " -0.006836312357336283,\n",
              " -0.012725099921226501,\n",
              " 0.005045156925916672,\n",
              " 0.013481457717716694,\n",
              " -0.0006010344950482249,\n",
              " -0.0349753238260746,\n",
              " 0.02209230326116085,\n",
              " 0.011760951019823551,\n",
              " -0.039363861083984375,\n",
              " 0.011162513867020607,\n",
              " -0.027627846226096153,\n",
              " 0.017504284158349037,\n",
              " 0.032481834292411804,\n",
              " -0.013182239606976509,\n",
              " 0.005834761541336775,\n",
              " 0.02972237579524517,\n",
              " -0.0037859457079321146,\n",
              " -0.003133482998237014,\n",
              " -0.01694740541279316,\n",
              " -0.03244858980178833,\n",
              " 0.028209660202264786,\n",
              " -0.00699838949367404,\n",
              " -0.033861566334962845,\n",
              " 0.011320434510707855,\n",
              " -0.0004470096610020846,\n",
              " 0.03520805016160011,\n",
              " -0.0032623133156448603,\n",
              " 0.0306200310587883,\n",
              " -0.018202461302280426,\n",
              " 0.02388761378824711,\n",
              " 0.016074685379862785,\n",
              " -0.037435565143823624,\n",
              " -0.027411743998527527,\n",
              " -0.015833647921681404,\n",
              " 0.0650966539978981,\n",
              " -0.00173401297070086,\n",
              " -0.002923614578321576,\n",
              " 0.03344598412513733,\n",
              " 0.020596209913492203,\n",
              " 0.01359782088547945,\n",
              " 0.0012498607393354177,\n",
              " -0.046245887875556946,\n",
              " -0.03166729584336281,\n",
              " -0.007002545055001974,\n",
              " 0.013315225020051003,\n",
              " -0.03849945217370987,\n",
              " 0.023904237896203995,\n",
              " -0.011910560540854931,\n",
              " 0.011337058618664742,\n",
              " 0.02006426639854908,\n",
              " 0.019050247967243195,\n",
              " 0.0035490645095705986,\n",
              " 0.0033329620491713285,\n",
              " -0.00720618013292551,\n",
              " -0.007147998549044132,\n",
              " 0.0041932156309485435,\n",
              " 0.006695014890283346,\n",
              " -0.0030877692624926567,\n",
              " -0.019698554649949074,\n",
              " -0.006329303607344627,\n",
              " -0.022424766793847084,\n",
              " 0.02323930710554123,\n",
              " -0.005365154705941677,\n",
              " 0.010256546549499035,\n",
              " -0.014561968855559826,\n",
              " 0.002815563464537263,\n",
              " 0.03414415940642357,\n",
              " 0.03657115623354912,\n",
              " -0.018002983182668686,\n",
              " 0.025849157944321632,\n",
              " 0.0011896014912053943,\n",
              " -0.03962983563542366,\n",
              " 0.033412735909223557,\n",
              " 0.01159471832215786,\n",
              " -0.015102224424481392,\n",
              " 0.00924252811819315,\n",
              " 0.035540513694286346,\n",
              " -0.0271956417709589,\n",
              " -0.05126611143350601,\n",
              " -0.017770256847143173,\n",
              " 0.059079039841890335,\n",
              " -0.012400946579873562,\n",
              " 0.0026514087803661823,\n",
              " -0.02131100930273533,\n",
              " 0.022358274087309837,\n",
              " -0.005165675655007362,\n",
              " 0.015883518382906914,\n",
              " -0.04504901543259621,\n",
              " 0.033462606370449066,\n",
              " -0.0199146568775177,\n",
              " 0.013290290720760822,\n",
              " 0.012367700226604939,\n",
              " -0.018302200362086296,\n",
              " 0.0005096065578982234,\n",
              " 0.027561353519558907,\n",
              " 0.01377236470580101,\n",
              " 0.03407766669988632,\n",
              " -0.00013947948173154145,\n",
              " 0.01087160687893629,\n",
              " -0.02511773444712162,\n",
              " -0.04474979639053345,\n",
              " -0.015783777460455894,\n",
              " -0.029888607561588287,\n",
              " -0.020629456266760826,\n",
              " 0.0009885639883577824,\n",
              " 0.02412034012377262,\n",
              " 0.00921759381890297,\n",
              " -0.03146781772375107,\n",
              " -0.021510489284992218,\n",
              " 0.024253325536847115,\n",
              " -0.019698554649949074,\n",
              " -0.06326809525489807,\n",
              " -0.003848282853141427,\n",
              " -0.002559980843216181,\n",
              " -0.03434364125132561,\n",
              " 0.05565464869141579,\n",
              " 0.0318002812564373,\n",
              " 0.022674117237329483,\n",
              " 0.04385213926434517,\n",
              " 0.031235091388225555,\n",
              " 0.006183850113302469,\n",
              " -0.06665924191474915,\n",
              " -0.016606628894805908,\n",
              " 0.000492463877890259,\n",
              " -0.003233222523704171,\n",
              " 0.01838531717658043,\n",
              " -0.008153704926371574,\n",
              " -1.342522409686353e-05,\n",
              " 0.008536039851605892,\n",
              " 0.013414965011179447,\n",
              " 0.012184844352304935,\n",
              " 0.04405161738395691,\n",
              " -0.0009090841049328446,\n",
              " -0.004841522313654423,\n",
              " -0.021477242931723595,\n",
              " -0.00138700264506042,\n",
              " 0.02229178138077259,\n",
              " -0.0049246386624872684,\n",
              " 0.012991071678698063,\n",
              " -0.05834761634469032,\n",
              " 0.01843518763780594,\n",
              " 0.007962537929415703,\n",
              " -0.0107053741812706,\n",
              " -0.007056570611894131,\n",
              " 0.007231114897876978,\n",
              " -0.016556760296225548,\n",
              " -0.05183130130171776,\n",
              " -0.018817521631717682,\n",
              " -0.027760831639170647,\n",
              " 0.005173987243324518,\n",
              " -0.00014506385196000338,\n",
              " 0.01245912816375494,\n",
              " 0.039563339203596115,\n",
              " 0.006183850113302469,\n",
              " -0.024934878572821617,\n",
              " 0.0184850562363863,\n",
              " -0.03620544448494911,\n",
              " -0.029539519920945168,\n",
              " 0.0049745081923902035,\n",
              " 0.012816527858376503,\n",
              " -0.010331351310014725,\n",
              " -0.012833151035010815,\n",
              " -0.007114752195775509,\n",
              " -0.0247686468064785,\n",
              " -0.015526117756962776,\n",
              " 0.010231612250208855,\n",
              " -0.01295782532542944,\n",
              " -0.028276152908802032,\n",
              " 0.005859696306288242,\n",
              " -0.016922470182180405,\n",
              " 0.013764052651822567,\n",
              " -0.013148992322385311,\n",
              " 0.010497584007680416,\n",
              " 0.024885008111596107,\n",
              " -0.004787496756762266,\n",
              " 0.00916772335767746,\n",
              " 0.03241534158587456,\n",
              " -0.01896713115274906,\n",
              " -0.003118937835097313,\n",
              " 0.03166729584336281,\n",
              " -0.0344766266644001,\n",
              " -0.009649798274040222,\n",
              " 0.017121950164437294,\n",
              " 0.0020072576589882374,\n",
              " -0.02224191091954708,\n",
              " -0.01580871269106865,\n",
              " 0.02423670142889023,\n",
              " -0.005614503752440214,\n",
              " 0.017770256847143173,\n",
              " 0.019349465146660805,\n",
              " -0.0027927064802497625,\n",
              " 0.011004593223333359,\n",
              " -0.021576981991529465,\n",
              " -0.010040444321930408,\n",
              " -0.03427714481949806,\n",
              " 0.015767155215144157,\n",
              " -0.0032519237138330936,\n",
              " -0.030586784705519676,\n",
              " -0.03022107295691967,\n",
              " -0.018834145739674568,\n",
              " 0.0035532203037291765,\n",
              " -0.007189556490629911,\n",
              " 0.025250719860196114,\n",
              " 0.05349362641572952,\n",
              " -0.013639378361403942,\n",
              " 0.00023999820405151695,\n",
              " 0.013680936768651009,\n",
              " 0.011860691010951996,\n",
              " -0.03903139755129814,\n",
              " -0.022574376314878464,\n",
              " 0.00192310253623873,\n",
              " 0.021227894350886345,\n",
              " -0.010954723693430424,\n",
              " -0.008710584603250027,\n",
              " -0.0109214773401618,\n",
              " -0.04385213926434517,\n",
              " 0.012068481184542179,\n",
              " 0.014337555505335331,\n",
              " 0.003235300537198782,\n",
              " -0.0022337494883686304,\n",
              " -0.045747190713882446,\n",
              " 0.019947903230786324,\n",
              " 0.017421169206500053,\n",
              " 0.01763727143406868,\n",
              " -0.0071729333139956,\n",
              " 0.0009755771025083959,\n",
              " -0.033711954951286316,\n",
              " 0.006674235686659813,\n",
              " 0.014054959639906883,\n",
              " -0.03131820634007454,\n",
              " 0.03140132501721382,\n",
              " 0.003952178172767162,\n",
              " -0.023704757913947105,\n",
              " -0.03667089343070984,\n",
              " -0.0089931795373559,\n",
              " -0.023521902039647102,\n",
              " -0.0008841492235660553,\n",
              " -0.018717782571911812,\n",
              " -0.005360999144613743,\n",
              " -0.00251426687464118,\n",
              " -0.005510608199983835,\n",
              " -0.08890115469694138,\n",
              " -0.009059672243893147,\n",
              " 0.019532321020960808,\n",
              " -0.01199367642402649,\n",
              " -0.034110914915800095,\n",
              " -0.033761825412511826,\n",
              " -0.010173430666327477,\n",
              " 0.05941150337457657,\n",
              " 0.007339166011661291,\n",
              " 0.001068043988198042,\n",
              " 0.032564952969551086,\n",
              " 0.006325147580355406,\n",
              " -0.011395239271223545,\n",
              " 0.002389592584222555,\n",
              " 0.0010051872814074159,\n",
              " -0.01273341104388237,\n",
              " 0.04541472718119621,\n",
              " -0.024585790932178497,\n",
              " -0.03869893029332161,\n",
              " -0.010198364965617657,\n",
              " -0.051798053085803986,\n",
              " 0.03289741650223732,\n",
              " -0.013614444062113762,\n",
              " 0.021975940093398094,\n",
              " -0.03520805016160011,\n",
              " -0.006661768537014723,\n",
              " -0.0114201745018363,\n",
              " 0.011578095145523548,\n",
              " 0.029040822759270668,\n",
              " -0.00556047772988677,\n",
              " 0.027927063405513763,\n",
              " 0.03434364125132561,\n",
              " 0.032980531454086304,\n",
              " -0.005356843117624521,\n",
              " 0.011145890690386295,\n",
              " -0.0485398955643177,\n",
              " -0.02096192166209221,\n",
              " -0.03507506102323532,\n",
              " 0.00655371742323041,\n",
              " -0.017171820625662804,\n",
              " -0.016523512080311775,\n",
              " -0.013040941208600998,\n",
              " -0.033412735909223557,\n",
              " 0.04006204009056091,\n",
              " -0.00929239857941866,\n",
              " 0.01679779589176178,\n",
              " -0.02338891662657261,\n",
              " 0.008760454133152962,\n",
              " -0.018701158463954926,\n",
              " 0.004567238502204418,\n",
              " 0.020479846745729446,\n",
              " 0.001241549151018262,\n",
              " 0.03979606553912163,\n",
              " -0.019332842901349068,\n",
              " -0.02249126136302948,\n",
              " -0.0054607386700809,\n",
              " -0.033462606370449066,\n",
              " -0.024635659530758858,\n",
              " 0.0209120512008667,\n",
              " -0.010214989073574543,\n",
              " -0.012999383732676506,\n",
              " -0.01678948476910591,\n",
              " -0.04142514616250992,\n",
              " -0.01773701049387455,\n",
              " -0.0049371058121323586,\n",
              " 0.007451373152434826,\n",
              " -0.02952289581298828,\n",
              " 0.006325147580355406,\n",
              " 0.012874709442257881,\n",
              " -0.004405161831527948,\n",
              " 0.025633055716753006,\n",
              " 0.027228888124227524,\n",
              " -0.0015085601480677724,\n",
              " 0.013647690415382385,\n",
              " 0.012251337058842182,\n",
              " -0.012035234831273556,\n",
              " -0.01013187225908041,\n",
              " -0.02739511989057064,\n",
              " 0.017055457457900047,\n",
              " -0.006358393933624029,\n",
              " 0.047841720283031464,\n",
              " 0.001463885186240077,\n",
              " 0.020097512751817703,\n",
              " 0.035008568316698074,\n",
              " -0.019598815590143204,\n",
              " -0.001389080542139709,\n",
              " -0.01337340660393238,\n",
              " -0.004829054698348045,\n",
              " -0.004178670234978199,\n",
              " -0.02373800426721573,\n",
              " 0.06127331033349037,\n",
              " 0.013822234235703945,\n",
              " -0.015642480924725533,\n",
              " 0.012068481184542179,\n",
              " 0.019432581961154938,\n",
              " -0.02566630207002163,\n",
              " -0.006009305827319622,\n",
              " -0.01327366754412651,\n",
              " 0.011661211960017681,\n",
              " -0.0436859093606472,\n",
              " 0.05701775476336479,\n",
              " -0.0007444100338034332,\n",
              " -0.009865900501608849,\n",
              " -0.016706367954611778,\n",
              " -0.04125891253352165,\n",
              " 0.011935494840145111,\n",
              " -0.003571921493858099,\n",
              " 0.0013038864126428962,\n",
              " -0.009500188753008842,\n",
              " -0.05312791466712952,\n",
              " 0.014653396792709827,\n",
              " 0.0018721937667578459,\n",
              " 0.054524268954992294,\n",
              " 0.009741226211190224,\n",
              " -0.03392805904150009,\n",
              " -0.0003361013950780034,\n",
              " 0.008644090965390205,\n",
              " 0.0011553160147741437,\n",
              " 0.014886122196912766,\n",
              " -0.037834521383047104,\n",
              " 0.007389035541564226,\n",
              " 0.03357896953821182,\n",
              " 0.011204072274267673,\n",
              " -0.023455409333109856,\n",
              " -0.016373904421925545,\n",
              " 0.015019108541309834,\n",
              " -0.02664707414805889,\n",
              " 0.019681930541992188,\n",
              " 0.012625359930098057,\n",
              " 0.028724979609251022,\n",
              " 0.008403054438531399,\n",
              " 0.02481851540505886,\n",
              " -0.021045038476586342,\n",
              " -0.002009335672482848,\n",
              " -0.006470601074397564,\n",
              " -0.031484439969062805,\n",
              " 0.0233390461653471,\n",
              " 0.05572114139795303,\n",
              " -0.010821737349033356,\n",
              " -0.00025506303063593805,\n",
              " 0.0037049073725938797,\n",
              " -0.018468433991074562,\n",
              " -0.031035613268613815,\n",
              " -0.019632061943411827,\n",
              " -0.005768268834799528,\n",
              " -0.014819629490375519,\n",
              " -0.0014690799871459603,\n",
              " 0.012716787867248058,\n",
              " -0.01659831777215004,\n",
              " -0.008423833176493645,\n",
              " 0.030187826603651047,\n",
              " -0.00018337526125833392,\n",
              " -0.008868505246937275,\n",
              " -0.0102066770195961,\n",
              " -0.007073193788528442,\n",
              " 0.024203455075621605,\n",
              " -0.023156190291047096,\n",
              " 0.0021132309921085835,\n",
              " -0.018102722242474556,\n",
              " 0.04850665107369423,\n",
              " -0.022125549614429474,\n",
              " 0.02967250533401966,\n",
              " 0.010655504651367664,\n",
              " -0.0031646518036723137,\n",
              " 0.01976504735648632,\n",
              " -0.015509494580328465,\n",
              " -0.003243612125515938,\n",
              " 0.0004168800078332424,\n",
              " -0.019981149584054947,\n",
              " -0.00988252367824316,\n",
              " 0.03156755492091179,\n",
              " 0.04258877411484718,\n",
              " -0.022308405488729477,\n",
              " -0.033662084490060806,\n",
              " 0.014952615834772587,\n",
              " 0.022956712171435356,\n",
              " 0.05648581311106682,\n",
              " -0.026530710980296135,\n",
              " -0.019233103841543198,\n",
              " 0.014063271693885326,\n",
              " 0.00465866643935442,\n",
              " 0.009599928744137287,\n",
              " -0.019282972440123558,\n",
              " 0.03690361976623535,\n",
              " 0.02674681320786476,\n",
              " -0.02016400545835495,\n",
              " 0.046146150678396225,\n",
              " -0.015725597739219666,\n",
              " -0.02581591159105301,\n",
              " 0.04711029678583145,\n",
              " 0.008278380148112774,\n",
              " -0.017554154619574547,\n",
              " 0.0436859093606472,\n",
              " 0.00579735916107893,\n",
              " 0.006906961556524038,\n",
              " -0.008024875074625015,\n",
              " 0.03540752828121185,\n",
              " 0.020845558494329453,\n",
              " 0.011071085929870605,\n",
              " -0.032980531454086304,\n",
              " 0.045215245336294174,\n",
              " 0.019233103841543198,\n",
              " 0.04085995629429817,\n",
              " ...]"
            ]
          },
          "execution_count": 24,
          "metadata": {},
          "output_type": "execute_result"
        }
      ],
      "source": [
        "text = 'the quick brown fox jumped over the lazy dog'\n",
        "client.embeddings.create(input='[text]', model=\"text-embedding-3-small\").data[0].embedding"
      ]
    },
    {
      "cell_type": "code",
      "execution_count": 26,
      "metadata": {},
      "outputs": [],
      "source": [
        "model = \"text-embedding-3-small\""
      ]
    },
    {
      "cell_type": "code",
      "execution_count": 27,
      "metadata": {
        "gather": {
          "logged": 1674829555255
        },
        "jupyter": {
          "outputs_hidden": false,
          "source_hidden": false
        },
        "nteract": {
          "transient": {
            "deleting": false
          }
        }
      },
      "outputs": [
        {
          "name": "stdout",
          "output_type": "stream",
          "text": [
            "0.6318639079811769\n",
            "0.33105929353152963\n",
            "0.22701338890138226\n"
          ]
        }
      ],
      "source": [
        "\n",
        "# compare several words\n",
        "automobile_embedding  = client.embeddings.create(input='automobile', model=model).data[0].embedding\n",
        "vehicle_embedding     = client.embeddings.create(input='vehicle', model=model).data[0].embedding\n",
        "dinosaur_embedding    = client.embeddings.create(input='dinosaur', model=model).data[0].embedding\n",
        "stick_embedding       = client.embeddings.create(input='stick', model=model).data[0].embedding\n",
        "\n",
        "print(cosine_similarity(automobile_embedding, vehicle_embedding))\n",
        "print(cosine_similarity(automobile_embedding, dinosaur_embedding))\n",
        "print(cosine_similarity(automobile_embedding, stick_embedding))"
      ]
    },
    {
      "attachments": {},
      "cell_type": "markdown",
      "metadata": {
        "nteract": {
          "transient": {
            "deleting": false
          }
        }
      },
      "source": [
        "## Comparing article from cnn daily news dataset\n",
        "source: https://huggingface.co/datasets/cnn_dailymail\n"
      ]
    },
    {
      "cell_type": "code",
      "execution_count": 28,
      "metadata": {
        "gather": {
          "logged": 1674831122093
        },
        "jupyter": {
          "outputs_hidden": false,
          "source_hidden": false
        },
        "nteract": {
          "transient": {
            "deleting": false
          }
        }
      },
      "outputs": [
        {
          "data": {
            "text/html": [
              "<div>\n",
              "<style scoped>\n",
              "    .dataframe tbody tr th:only-of-type {\n",
              "        vertical-align: middle;\n",
              "    }\n",
              "\n",
              "    .dataframe tbody tr th {\n",
              "        vertical-align: top;\n",
              "    }\n",
              "\n",
              "    .dataframe thead th {\n",
              "        text-align: right;\n",
              "    }\n",
              "</style>\n",
              "<table border=\"1\" class=\"dataframe\">\n",
              "  <thead>\n",
              "    <tr style=\"text-align: right;\">\n",
              "      <th></th>\n",
              "      <th>articles</th>\n",
              "      <th>highligths</th>\n",
              "    </tr>\n",
              "  </thead>\n",
              "  <tbody>\n",
              "    <tr>\n",
              "      <th>0</th>\n",
              "      <td>BREMEN, Germany -- Carlos Alberto, who scored ...</td>\n",
              "      <td>Werder Bremen pay a club record $10.7 million ...</td>\n",
              "    </tr>\n",
              "    <tr>\n",
              "      <th>1</th>\n",
              "      <td>(CNN) -- Football superstar, celebrity, fashio...</td>\n",
              "      <td>Beckham has agreed to a five-year contract wit...</td>\n",
              "    </tr>\n",
              "    <tr>\n",
              "      <th>2</th>\n",
              "      <td>LOS ANGELES, California (CNN) -- Youssif, the ...</td>\n",
              "      <td>Boy on meeting Spider-Man: \"It was my favorite...</td>\n",
              "    </tr>\n",
              "  </tbody>\n",
              "</table>\n",
              "</div>"
            ],
            "text/plain": [
              "                                            articles  \\\n",
              "0  BREMEN, Germany -- Carlos Alberto, who scored ...   \n",
              "1  (CNN) -- Football superstar, celebrity, fashio...   \n",
              "2  LOS ANGELES, California (CNN) -- Youssif, the ...   \n",
              "\n",
              "                                          highligths  \n",
              "0  Werder Bremen pay a club record $10.7 million ...  \n",
              "1  Beckham has agreed to a five-year contract wit...  \n",
              "2  Boy on meeting Spider-Man: \"It was my favorite...  "
            ]
          },
          "execution_count": 28,
          "metadata": {},
          "output_type": "execute_result"
        }
      ],
      "source": [
        "import pandas as pd\n",
        "cnn_daily_articles = ['BREMEN, Germany -- Carlos Alberto, who scored in FC Porto\\'s Champions League final victory against Monaco in 2004, has joined Bundesliga club Werder Bremen for a club record fee of 7.8 million euros ($10.7 million). Carlos Alberto enjoyed success at FC Porto under Jose Mourinho. \"I\\'m here to win titles with Werder,\" the 22-year-old said after his first training session with his new club. \"I like Bremen and would only have wanted to come here.\" Carlos Alberto started his career with Fluminense, and helped them to lift the Campeonato Carioca in 2002. In January 2004 he moved on to FC Porto, who were coached by José Mourinho, and the club won the Portuguese title as well as the Champions League. Early in 2005, he moved to Corinthians, where he impressed as they won the Brasileirão,but in 2006 Corinthians had a poor season and Carlos Alberto found himself at odds with manager, Emerson Leão. Their poor relationship came to a climax at a Copa Sul-Americana game against Club Atlético Lanús, and Carlos Alberto declared that he would not play for Corinthians again while Leão remained as manager. Since January this year he has been on loan with his first club Fluminense. Bundesliga champions VfB Stuttgart said on Sunday that they would sign a loan agreement with Real Zaragoza on Monday for Ewerthon, the third top Brazilian player to join the German league in three days. A VfB spokesman said Ewerthon, who played in the Bundesliga for Borussia Dortmund from 2001 to 2005, was expected to join the club for their pre-season training in Austria on Monday. On Friday, Ailton returned to Germany where he was the league\\'s top scorer in 2004, signing a one-year deal with Duisburg on a transfer from Red Star Belgrade. E-mail to a friend .',\n",
        "                        '(CNN) -- Football superstar, celebrity, fashion icon, multimillion-dollar heartthrob. Now, David Beckham is headed for the Hollywood Hills as he takes his game to U.S. Major League Soccer. CNN looks at how Bekham fulfilled his dream of playing for Manchester United, and his time playing for England. The world\\'s famous footballer has begun a five-year contract with the Los Angeles Galaxy team, and on Friday Beckham will meet the press and reveal his new shirt number. This week, we take an in depth look at the life and times of Beckham, as CNN\\'s very own \"Becks,\" Becky Anderson, sets out to examine what makes the man tick -- as footballer, fashion icon and global phenomenon. It\\'s a long way from the streets of east London to the Hollywood Hills and Becky charts Beckham\\'s incredible rise to football stardom, a journey that has seen his skills grace the greatest stages in world soccer. She goes in pursuit of the current hottest property on the sports/celebrity circuit in the U.S. and along the way explores exactly what\\'s behind the man with the golden boot. CNN will look back at the life of Beckham, the wonderfully talented youngster who fulfilled his dream of playing for Manchester United, his marriage to pop star Victoria, and the trials and tribulations of playing for England. We\\'ll look at the highs (scoring against Greece), the lows (being sent off during the World Cup), the Man. U departure for the Galacticos of Madrid -- and now the Home Depot stadium in L.A. We\\'ll ask how Beckham and his family will adapt to life in Los Angeles -- the people, the places to see and be seen and the celebrity endorsement. Beckham is no stranger to exposure. He has teamed with Reggie Bush in an Adidas commercial, is the face of Motorola, is the face on a PlayStation game and doesn\\'t need fashion tips as he has his own international clothing line. But what does the star couple need to do to become an accepted part of Tinseltown\\'s glitterati? The road to major league football in the U.S.A. is a well-worn route for some of the world\\'s greatest players. We talk to some of the former greats who came before him and examine what impact these overseas stars had on U.S. soccer and look at what is different now. We also get a rare glimpse inside the David Beckham academy in L.A, find out what drives the kids and who are their heroes. The perception that in the U.S.A. soccer is a \"game for girls\" after the teenage years is changing. More and more young kids are choosing the European game over the traditional U.S. sports. E-mail to a friend .',\n",
        "                        'LOS ANGELES, California (CNN) -- Youssif, the 5-year-old burned Iraqi boy, rounded the corner at Universal Studios when suddenly the little boy hero met his favorite superhero. Youssif has always been a huge Spider-Man fan. Meeting him was \"my favorite thing,\" he said. Spider-Man was right smack dab in front of him, riding a four-wheeler amid a convoy of other superheroes. The legendary climber of buildings and fighter of evil dismounted, walked over to Youssif and introduced himself. Spidey then gave the boy from a far-away land a gentle hug, embracing him in his iconic blue and red tights. He showed Youssif a few tricks, like how to shoot a web from his wrist. Only this time, no web was spun. \"All right Youssif!\" Spider-Man said after the boy mimicked his wrist movement. Other superheroes crowded around to get a closer look. Even the Green Goblin stopped his villainous ways to tell the boy hi. Youssif remained unfazed. He didn\\'t take a liking to Spider-Man\\'s nemesis. Spidey was just too cool. \"It was my favorite thing,\" the boy said later. \"I want to see him again.\" He then felt compelled to add: \"I know it\\'s not the real Spider-Man.\" This was the day of dreams when the boy\\'s nightmares were, at least temporarily, forgotten. He met SpongeBob, Lassie and a 3-year-old orangutan named Archie. The hairy, brownish-red primate took to the boy, grabbing his hand and holding it. Even when Youssif pulled away, Archie would inch his hand back toward the boy\\'s and then snatch it. See Youssif enjoy being a boy again » . The boy giggled inside a play area where sponge-like balls shot out of toy guns. It was a far different artillery than what he was used to seeing in central Baghdad, as recently as a week ago. He squealed with delight and raced around the room collecting as many balls as he could. He rode a tram through the back stages at Universal Studios. At one point, the car shook. Fire and smoke filled the air, debris cascaded down and a big rig skidded toward the vehicle. The boy and his family survived the pretend earthquake unscathed. \"Even I was scared,\" the dad said. \"Well, I wasn\\'t,\" Youssif replied. The father and mother grinned from ear to ear throughout the day. Youssif pushed his 14-month-old sister, Ayaa, in a stroller. \"Did you even need to ask us if we were interested in coming here?\" Youssif\\'s father said in amazement. \"Other than my wedding day, this is the happiest day of my life,\" he said. Just a day earlier, the mother and father talked about their journey out of Iraq and to the United States. They also discussed that day nine months ago when masked men grabbed their son outside the family home, doused him in gas and set him on fire. His mother heard her boy screaming from inside. The father sought help for his boy across Baghdad, but no one listened. He remembers his son\\'s two months of hospitalization. The doctors didn\\'t use anesthetics. He could hear his boy\\'s piercing screams from the other side of the hospital. Watch Youssif meet his doctor and play with his little sister » . The father knew that speaking to CNN would put his family\\'s lives in jeopardy. The possibility of being killed was better than seeing his son suffer, he said. \"Anything for Youssif,\" he said. \"We had to do it.\" They described a life of utter chaos in Baghdad. Neighbors had recently given birth to a baby girl. Shortly afterward, the father was kidnapped and killed. Then, there was the time when some girls wore tanktops and jeans. They were snatched off the street by gunmen. The stories can be even more gruesome. The couple said they had heard reports that a young girl was kidnapped and beheaded --and her killers sewed a dog\\'s head on the corpse and delivered it to her family\\'s doorstep. \"These are just some of the stories,\" said Youssif\\'s mother, Zainab. Under Saddam Hussein, there was more security and stability, they said. There was running water and electricity most of the time. But still life was tough under the dictator, like the time when Zainab\\'s uncle disappeared and was never heard from again after he read a \"religious book,\" she said. Sitting in the parking lot of a Target in suburban Los Angeles, Youssif\\'s father watched as husbands and wives, boyfriends and girlfriends, parents and their children, came and went. Some held hands. Others smiled and laughed. \"Iraq finished,\" he said in what few English words he knows. He elaborated in Arabic: His homeland won\\'t be enjoying such freedoms anytime soon. It\\'s just not possible. Too much violence. Too many killings. His two children have only seen war. But this week, the family has seen a much different side of America -- an outpouring of generosity and a peaceful nation at home. \"It\\'s been a dream,\" the father said. He used to do a lot of volunteer work back in Baghdad. \"Maybe that\\'s why I\\'m being helped now,\" the father said. At Universal Studios, he looked out across the valley below. The sun glistened off treetops and buildings. It was a picturesque sight fit for a Hollywood movie. \"Good America, good America,\" he said in English. E-mail to a friend . CNN\\'s Arwa Damon contributed to this report.'\n",
        "]\n",
        "\n",
        "cnn_daily_article_highlights = ['Werder Bremen pay a club record $10.7 million for Carlos Alberto .\\nThe Brazilian midfielder won the Champions League with FC Porto in 2004 .\\nSince January he has been on loan with his first club, Fluminense .',\n",
        "                                'Beckham has agreed to a five-year contract with Los Angeles Galaxy .\\nNew contract took effect July 1, 2007 .\\nFormer English captain to meet press, unveil new shirt number Friday .\\nCNN to look at Beckham as footballer, fashion icon and global phenomenon .',\n",
        "                                'Boy on meeting Spider-Man: \"It was my favorite thing\"\\nYoussif also met SpongeBob, Lassie and an orangutan at Universal Studios .\\nDad: \"Other than my wedding day, this is the happiest day of my life\"' \n",
        "]\n",
        "\n",
        "cnn_df = pd.DataFrame({\"articles\":cnn_daily_articles, \"highligths\":cnn_daily_article_highlights})\n",
        "\n",
        "cnn_df.head()                      "
      ]
    },
    {
      "cell_type": "code",
      "execution_count": 29,
      "metadata": {
        "gather": {
          "logged": 1674831294043
        },
        "jupyter": {
          "outputs_hidden": false,
          "source_hidden": false
        },
        "nteract": {
          "transient": {
            "deleting": false
          }
        }
      },
      "outputs": [
        {
          "name": "stdout",
          "output_type": "stream",
          "text": [
            "0.33077918754142754\n",
            "0.11584710740133558\n"
          ]
        }
      ],
      "source": [
        "article1_embedding    = client.embeddings.create(input=cnn_df.articles.iloc[0], model=model).data[0].embedding\n",
        "article2_embedding    = client.embeddings.create(input=cnn_df.articles.iloc[1], model=model).data[0].embedding\n",
        "article3_embedding    = client.embeddings.create(input=cnn_df.articles.iloc[2], model=model).data[0].embedding\n",
        "\n",
        "print(cosine_similarity(article1_embedding, article2_embedding))\n",
        "print(cosine_similarity(article1_embedding, article3_embedding))"
      ]
    },
    {
      "attachments": {},
      "cell_type": "markdown",
      "metadata": {
        "nteract": {
          "transient": {
            "deleting": false
          }
        }
      },
      "source": [
        "# References  \n",
        "- [Azure Documentation - Azure Open AI Models](https://learn.microsoft.com/azure/cognitive-services/openai/concepts/models?WT.mc_id=academic-105485-koreyst)  \n",
        "- [OpenAI Studio Examples](https://oai.azure.com/portal?WT.mc_id=academic-105485-koreyst)  "
      ]
    },
    {
      "attachments": {},
      "cell_type": "markdown",
      "metadata": {
        "nteract": {
          "transient": {
            "deleting": false
          }
        }
      },
      "source": [
        "# For More Help  \n",
        "[OpenAI Commercialization Team](AzureOpenAITeam@microsoft.com)"
      ]
    },
    {
      "attachments": {},
      "cell_type": "markdown",
      "metadata": {
        "nteract": {
          "transient": {
            "deleting": false
          }
        }
      },
      "source": [
        "# Contributors\n",
        "* Louis Li  \n"
      ]
    }
  ],
  "metadata": {
    "kernel_info": {
      "name": "python310-sdkv2"
    },
    "kernelspec": {
      "display_name": "base",
      "language": "python",
      "name": "python3"
    },
    "language_info": {
      "codemirror_mode": {
        "name": "ipython",
        "version": 3
      },
      "file_extension": ".py",
      "mimetype": "text/x-python",
      "name": "python",
      "nbconvert_exporter": "python",
      "pygments_lexer": "ipython3",
      "version": "3.10.13"
    },
    "microsoft": {
      "host": {
        "AzureML": {
          "notebookHasBeenCompleted": true
        }
      }
    },
    "nteract": {
      "version": "nteract-front-end@1.0.0"
    }
  },
  "nbformat": 4,
  "nbformat_minor": 2
}
